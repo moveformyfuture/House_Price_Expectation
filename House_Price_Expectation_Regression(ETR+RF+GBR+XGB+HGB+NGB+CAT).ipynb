{
  "nbformat": 4,
  "nbformat_minor": 0,
  "metadata": {
    "colab": {
      "name": "House_Price_Expectation_Regression(ETR+RF+GBR+XGB+HGB+NGB+CAT).ipynb",
      "provenance": [],
      "collapsed_sections": [],
      "authorship_tag": "ABX9TyPn+n/8yjl+wAfsMnct1Lq6",
      "include_colab_link": true
    },
    "kernelspec": {
      "name": "python3",
      "display_name": "Python 3"
    },
    "language_info": {
      "name": "python"
    }
  },
  "cells": [
    {
      "cell_type": "markdown",
      "metadata": {
        "id": "view-in-github",
        "colab_type": "text"
      },
      "source": [
        "<a href=\"https://colab.research.google.com/github/moveformyfuture/House_Price_Expectation/blob/main/House_Price_Expectation_Regression(ETR%2BRF%2BGBR%2BXGB%2BHGB%2BNGB%2BCAT).ipynb\" target=\"_parent\"><img src=\"https://colab.research.google.com/assets/colab-badge.svg\" alt=\"Open In Colab\"/></a>"
      ]
    },
    {
      "cell_type": "code",
      "source": [
        "# 머신러닝을 위한 모듈 설치\n",
        "!pip install pandas\n",
        "!pip install numpy\n",
        "!pip install matplotlib\n",
        "!pip install seaborn\n",
        "!pip install sklearn\n",
        "!pip3 install catboost\n",
        "!pip3 install ngboost"
      ],
      "metadata": {
        "colab": {
          "base_uri": "https://localhost:8080/"
        },
        "id": "UX44ZIi7Iclo",
        "outputId": "c18a8935-fa15-4675-fd6a-acfd3a7d26a0"
      },
      "execution_count": 1,
      "outputs": [
        {
          "output_type": "stream",
          "name": "stdout",
          "text": [
            "Looking in indexes: https://pypi.org/simple, https://us-python.pkg.dev/colab-wheels/public/simple/\n",
            "Requirement already satisfied: pandas in /usr/local/lib/python3.7/dist-packages (1.3.5)\n",
            "Requirement already satisfied: numpy>=1.17.3 in /usr/local/lib/python3.7/dist-packages (from pandas) (1.21.6)\n",
            "Requirement already satisfied: pytz>=2017.3 in /usr/local/lib/python3.7/dist-packages (from pandas) (2022.1)\n",
            "Requirement already satisfied: python-dateutil>=2.7.3 in /usr/local/lib/python3.7/dist-packages (from pandas) (2.8.2)\n",
            "Requirement already satisfied: six>=1.5 in /usr/local/lib/python3.7/dist-packages (from python-dateutil>=2.7.3->pandas) (1.15.0)\n",
            "Looking in indexes: https://pypi.org/simple, https://us-python.pkg.dev/colab-wheels/public/simple/\n",
            "Requirement already satisfied: numpy in /usr/local/lib/python3.7/dist-packages (1.21.6)\n",
            "Looking in indexes: https://pypi.org/simple, https://us-python.pkg.dev/colab-wheels/public/simple/\n",
            "Requirement already satisfied: matplotlib in /usr/local/lib/python3.7/dist-packages (3.2.2)\n",
            "Requirement already satisfied: pyparsing!=2.0.4,!=2.1.2,!=2.1.6,>=2.0.1 in /usr/local/lib/python3.7/dist-packages (from matplotlib) (3.0.9)\n",
            "Requirement already satisfied: kiwisolver>=1.0.1 in /usr/local/lib/python3.7/dist-packages (from matplotlib) (1.4.4)\n",
            "Requirement already satisfied: cycler>=0.10 in /usr/local/lib/python3.7/dist-packages (from matplotlib) (0.11.0)\n",
            "Requirement already satisfied: python-dateutil>=2.1 in /usr/local/lib/python3.7/dist-packages (from matplotlib) (2.8.2)\n",
            "Requirement already satisfied: numpy>=1.11 in /usr/local/lib/python3.7/dist-packages (from matplotlib) (1.21.6)\n",
            "Requirement already satisfied: typing-extensions in /usr/local/lib/python3.7/dist-packages (from kiwisolver>=1.0.1->matplotlib) (4.1.1)\n",
            "Requirement already satisfied: six>=1.5 in /usr/local/lib/python3.7/dist-packages (from python-dateutil>=2.1->matplotlib) (1.15.0)\n",
            "Looking in indexes: https://pypi.org/simple, https://us-python.pkg.dev/colab-wheels/public/simple/\n",
            "Requirement already satisfied: seaborn in /usr/local/lib/python3.7/dist-packages (0.11.2)\n",
            "Requirement already satisfied: pandas>=0.23 in /usr/local/lib/python3.7/dist-packages (from seaborn) (1.3.5)\n",
            "Requirement already satisfied: matplotlib>=2.2 in /usr/local/lib/python3.7/dist-packages (from seaborn) (3.2.2)\n",
            "Requirement already satisfied: scipy>=1.0 in /usr/local/lib/python3.7/dist-packages (from seaborn) (1.7.3)\n",
            "Requirement already satisfied: numpy>=1.15 in /usr/local/lib/python3.7/dist-packages (from seaborn) (1.21.6)\n",
            "Requirement already satisfied: cycler>=0.10 in /usr/local/lib/python3.7/dist-packages (from matplotlib>=2.2->seaborn) (0.11.0)\n",
            "Requirement already satisfied: python-dateutil>=2.1 in /usr/local/lib/python3.7/dist-packages (from matplotlib>=2.2->seaborn) (2.8.2)\n",
            "Requirement already satisfied: pyparsing!=2.0.4,!=2.1.2,!=2.1.6,>=2.0.1 in /usr/local/lib/python3.7/dist-packages (from matplotlib>=2.2->seaborn) (3.0.9)\n",
            "Requirement already satisfied: kiwisolver>=1.0.1 in /usr/local/lib/python3.7/dist-packages (from matplotlib>=2.2->seaborn) (1.4.4)\n",
            "Requirement already satisfied: typing-extensions in /usr/local/lib/python3.7/dist-packages (from kiwisolver>=1.0.1->matplotlib>=2.2->seaborn) (4.1.1)\n",
            "Requirement already satisfied: pytz>=2017.3 in /usr/local/lib/python3.7/dist-packages (from pandas>=0.23->seaborn) (2022.1)\n",
            "Requirement already satisfied: six>=1.5 in /usr/local/lib/python3.7/dist-packages (from python-dateutil>=2.1->matplotlib>=2.2->seaborn) (1.15.0)\n",
            "Looking in indexes: https://pypi.org/simple, https://us-python.pkg.dev/colab-wheels/public/simple/\n",
            "Requirement already satisfied: sklearn in /usr/local/lib/python3.7/dist-packages (0.0)\n",
            "Requirement already satisfied: scikit-learn in /usr/local/lib/python3.7/dist-packages (from sklearn) (1.0.2)\n",
            "Requirement already satisfied: joblib>=0.11 in /usr/local/lib/python3.7/dist-packages (from scikit-learn->sklearn) (1.1.0)\n",
            "Requirement already satisfied: scipy>=1.1.0 in /usr/local/lib/python3.7/dist-packages (from scikit-learn->sklearn) (1.7.3)\n",
            "Requirement already satisfied: threadpoolctl>=2.0.0 in /usr/local/lib/python3.7/dist-packages (from scikit-learn->sklearn) (3.1.0)\n",
            "Requirement already satisfied: numpy>=1.14.6 in /usr/local/lib/python3.7/dist-packages (from scikit-learn->sklearn) (1.21.6)\n",
            "Looking in indexes: https://pypi.org/simple, https://us-python.pkg.dev/colab-wheels/public/simple/\n",
            "Collecting catboost\n",
            "  Downloading catboost-1.0.6-cp37-none-manylinux1_x86_64.whl (76.6 MB)\n",
            "\u001b[K     |████████████████████████████████| 76.6 MB 84 kB/s \n",
            "\u001b[?25hRequirement already satisfied: scipy in /usr/local/lib/python3.7/dist-packages (from catboost) (1.7.3)\n",
            "Requirement already satisfied: plotly in /usr/local/lib/python3.7/dist-packages (from catboost) (5.5.0)\n",
            "Requirement already satisfied: numpy>=1.16.0 in /usr/local/lib/python3.7/dist-packages (from catboost) (1.21.6)\n",
            "Requirement already satisfied: matplotlib in /usr/local/lib/python3.7/dist-packages (from catboost) (3.2.2)\n",
            "Requirement already satisfied: pandas>=0.24.0 in /usr/local/lib/python3.7/dist-packages (from catboost) (1.3.5)\n",
            "Requirement already satisfied: six in /usr/local/lib/python3.7/dist-packages (from catboost) (1.15.0)\n",
            "Requirement already satisfied: graphviz in /usr/local/lib/python3.7/dist-packages (from catboost) (0.10.1)\n",
            "Requirement already satisfied: pytz>=2017.3 in /usr/local/lib/python3.7/dist-packages (from pandas>=0.24.0->catboost) (2022.1)\n",
            "Requirement already satisfied: python-dateutil>=2.7.3 in /usr/local/lib/python3.7/dist-packages (from pandas>=0.24.0->catboost) (2.8.2)\n",
            "Requirement already satisfied: pyparsing!=2.0.4,!=2.1.2,!=2.1.6,>=2.0.1 in /usr/local/lib/python3.7/dist-packages (from matplotlib->catboost) (3.0.9)\n",
            "Requirement already satisfied: kiwisolver>=1.0.1 in /usr/local/lib/python3.7/dist-packages (from matplotlib->catboost) (1.4.4)\n",
            "Requirement already satisfied: cycler>=0.10 in /usr/local/lib/python3.7/dist-packages (from matplotlib->catboost) (0.11.0)\n",
            "Requirement already satisfied: typing-extensions in /usr/local/lib/python3.7/dist-packages (from kiwisolver>=1.0.1->matplotlib->catboost) (4.1.1)\n",
            "Requirement already satisfied: tenacity>=6.2.0 in /usr/local/lib/python3.7/dist-packages (from plotly->catboost) (8.0.1)\n",
            "Installing collected packages: catboost\n",
            "Successfully installed catboost-1.0.6\n",
            "Looking in indexes: https://pypi.org/simple, https://us-python.pkg.dev/colab-wheels/public/simple/\n",
            "Collecting ngboost\n",
            "  Downloading ngboost-0.3.12-py3-none-any.whl (31 kB)\n",
            "Requirement already satisfied: numpy>=1.17 in /usr/local/lib/python3.7/dist-packages (from ngboost) (1.21.6)\n",
            "Collecting lifelines>=0.25\n",
            "  Downloading lifelines-0.27.1-py3-none-any.whl (349 kB)\n",
            "\u001b[K     |████████████████████████████████| 349 kB 12.7 MB/s \n",
            "\u001b[?25hRequirement already satisfied: scikit-learn>=0.21 in /usr/local/lib/python3.7/dist-packages (from ngboost) (1.0.2)\n",
            "Requirement already satisfied: tqdm>=4.3 in /usr/local/lib/python3.7/dist-packages (from ngboost) (4.64.0)\n",
            "Requirement already satisfied: scipy>=1.3 in /usr/local/lib/python3.7/dist-packages (from ngboost) (1.7.3)\n",
            "Requirement already satisfied: autograd>=1.3 in /usr/local/lib/python3.7/dist-packages (from lifelines>=0.25->ngboost) (1.4)\n",
            "Requirement already satisfied: pandas>=1.0.0 in /usr/local/lib/python3.7/dist-packages (from lifelines>=0.25->ngboost) (1.3.5)\n",
            "Requirement already satisfied: matplotlib>=3.0 in /usr/local/lib/python3.7/dist-packages (from lifelines>=0.25->ngboost) (3.2.2)\n",
            "Collecting autograd-gamma>=0.3\n",
            "  Downloading autograd-gamma-0.5.0.tar.gz (4.0 kB)\n",
            "Collecting formulaic>=0.2.2\n",
            "  Downloading formulaic-0.3.4-py3-none-any.whl (68 kB)\n",
            "\u001b[K     |████████████████████████████████| 68 kB 7.5 MB/s \n",
            "\u001b[?25hRequirement already satisfied: future>=0.15.2 in /usr/local/lib/python3.7/dist-packages (from autograd>=1.3->lifelines>=0.25->ngboost) (0.16.0)\n",
            "Requirement already satisfied: astor>=0.8 in /usr/local/lib/python3.7/dist-packages (from formulaic>=0.2.2->lifelines>=0.25->ngboost) (0.8.1)\n",
            "Requirement already satisfied: wrapt>=1.0 in /usr/local/lib/python3.7/dist-packages (from formulaic>=0.2.2->lifelines>=0.25->ngboost) (1.14.1)\n",
            "Collecting interface-meta<2.0.0,>=1.2.0\n",
            "  Downloading interface_meta-1.3.0-py3-none-any.whl (14 kB)\n",
            "Requirement already satisfied: kiwisolver>=1.0.1 in /usr/local/lib/python3.7/dist-packages (from matplotlib>=3.0->lifelines>=0.25->ngboost) (1.4.4)\n",
            "Requirement already satisfied: pyparsing!=2.0.4,!=2.1.2,!=2.1.6,>=2.0.1 in /usr/local/lib/python3.7/dist-packages (from matplotlib>=3.0->lifelines>=0.25->ngboost) (3.0.9)\n",
            "Requirement already satisfied: python-dateutil>=2.1 in /usr/local/lib/python3.7/dist-packages (from matplotlib>=3.0->lifelines>=0.25->ngboost) (2.8.2)\n",
            "Requirement already satisfied: cycler>=0.10 in /usr/local/lib/python3.7/dist-packages (from matplotlib>=3.0->lifelines>=0.25->ngboost) (0.11.0)\n",
            "Requirement already satisfied: typing-extensions in /usr/local/lib/python3.7/dist-packages (from kiwisolver>=1.0.1->matplotlib>=3.0->lifelines>=0.25->ngboost) (4.1.1)\n",
            "Requirement already satisfied: pytz>=2017.3 in /usr/local/lib/python3.7/dist-packages (from pandas>=1.0.0->lifelines>=0.25->ngboost) (2022.1)\n",
            "Requirement already satisfied: six>=1.5 in /usr/local/lib/python3.7/dist-packages (from python-dateutil>=2.1->matplotlib>=3.0->lifelines>=0.25->ngboost) (1.15.0)\n",
            "Requirement already satisfied: threadpoolctl>=2.0.0 in /usr/local/lib/python3.7/dist-packages (from scikit-learn>=0.21->ngboost) (3.1.0)\n",
            "Requirement already satisfied: joblib>=0.11 in /usr/local/lib/python3.7/dist-packages (from scikit-learn>=0.21->ngboost) (1.1.0)\n",
            "Building wheels for collected packages: autograd-gamma\n",
            "  Building wheel for autograd-gamma (setup.py) ... \u001b[?25l\u001b[?25hdone\n",
            "  Created wheel for autograd-gamma: filename=autograd_gamma-0.5.0-py3-none-any.whl size=4048 sha256=64106ba80a0824b20c096cac333e4de785646af5bdad2666a8b74cc8125d244f\n",
            "  Stored in directory: /root/.cache/pip/wheels/9f/01/ee/1331593abb5725ff7d8c1333aee93a50a1c29d6ddda9665c9f\n",
            "Successfully built autograd-gamma\n",
            "Installing collected packages: interface-meta, formulaic, autograd-gamma, lifelines, ngboost\n",
            "Successfully installed autograd-gamma-0.5.0 formulaic-0.3.4 interface-meta-1.3.0 lifelines-0.27.1 ngboost-0.3.12\n"
          ]
        }
      ]
    },
    {
      "cell_type": "code",
      "source": [
        "import numpy as np\n",
        "import pandas as pd\n",
        "from pandas import read_csv, set_option\n",
        "\n",
        "from sklearn.model_selection import cross_val_score, train_test_split, RepeatedStratifiedKFold\n",
        "from sklearn.model_selection import GridSearchCV, RandomizedSearchCV\n",
        "from sklearn.preprocessing import MinMaxScaler, RobustScaler, StandardScaler\n",
        "from sklearn.pipeline import Pipeline\n",
        "from sklearn.preprocessing import LabelEncoder\n",
        "from sklearn.metrics import accuracy_score, roc_auc_score\n",
        "from sklearn.utils import resample, shuffle\n",
        "\n",
        "# 구글 드라이브에 접근할 수 있도록 아래 코드 입력\n",
        "from google.colab import drive\n",
        "drive.mount('/content/drive')"
      ],
      "metadata": {
        "colab": {
          "base_uri": "https://localhost:8080/"
        },
        "id": "J5K1VWe-GgWI",
        "outputId": "35ff6a39-f973-4531-cb10-67db26a49116"
      },
      "execution_count": 2,
      "outputs": [
        {
          "output_type": "stream",
          "name": "stdout",
          "text": [
            "Mounted at /content/drive\n"
          ]
        }
      ]
    },
    {
      "cell_type": "code",
      "source": [
        "# 경고 무시\n",
        "import warnings\n",
        "warnings.filterwarnings('ignore')"
      ],
      "metadata": {
        "id": "wxhOhdmkKaaZ"
      },
      "execution_count": 3,
      "outputs": []
    },
    {
      "cell_type": "code",
      "source": [
        "# 데이터셋 설정\n",
        "X_train_df=read_csv('/content/drive/MyDrive/데이터분석 프로젝트 자료/집값예측 프로젝트/train.csv')\n",
        "X_test_df=read_csv('/content/drive/MyDrive/데이터분석 프로젝트 자료/집값예측 프로젝트/test.csv')"
      ],
      "metadata": {
        "id": "81tgarRSQ_Ev"
      },
      "execution_count": 5,
      "outputs": []
    },
    {
      "cell_type": "code",
      "source": [
        "# 데이터셋 확인(train : traget가 존재)\n",
        "X_train_df.describe()"
      ],
      "metadata": {
        "id": "rI64q612R5Lk"
      },
      "execution_count": null,
      "outputs": []
    },
    {
      "cell_type": "code",
      "source": [
        "# 데이터셋 확인(test : target 열이 없음)\n",
        "X_test_df.describe()"
      ],
      "metadata": {
        "id": "X1doZCvryuQp"
      },
      "execution_count": null,
      "outputs": []
    },
    {
      "cell_type": "code",
      "source": [
        "X_train_df[X_train_df['Garage Yr Blt']>=2022]"
      ],
      "metadata": {
        "colab": {
          "base_uri": "https://localhost:8080/",
          "height": 81
        },
        "id": "B_ngc5I3W5rE",
        "outputId": "e78e54f6-1725-4d73-f774-8bd26f07f5e9"
      },
      "execution_count": null,
      "outputs": [
        {
          "output_type": "execute_result",
          "data": {
            "text/plain": [
              "      id  Overall Qual  Gr Liv Area Exter Qual  Garage Cars  Garage Area  \\\n",
              "254  255             8         1564         Gd            2          502   \n",
              "\n",
              "    Kitchen Qual  Total Bsmt SF  1st Flr SF Bsmt Qual  Full Bath  Year Built  \\\n",
              "254           Ex           1546        1564        Gd          2        2006   \n",
              "\n",
              "     Year Remod/Add  Garage Yr Blt  target  \n",
              "254            2007           2207  267300  "
            ],
            "text/html": [
              "\n",
              "  <div id=\"df-a96daa47-6a15-4793-88a6-ecf24a60cdf0\">\n",
              "    <div class=\"colab-df-container\">\n",
              "      <div>\n",
              "<style scoped>\n",
              "    .dataframe tbody tr th:only-of-type {\n",
              "        vertical-align: middle;\n",
              "    }\n",
              "\n",
              "    .dataframe tbody tr th {\n",
              "        vertical-align: top;\n",
              "    }\n",
              "\n",
              "    .dataframe thead th {\n",
              "        text-align: right;\n",
              "    }\n",
              "</style>\n",
              "<table border=\"1\" class=\"dataframe\">\n",
              "  <thead>\n",
              "    <tr style=\"text-align: right;\">\n",
              "      <th></th>\n",
              "      <th>id</th>\n",
              "      <th>Overall Qual</th>\n",
              "      <th>Gr Liv Area</th>\n",
              "      <th>Exter Qual</th>\n",
              "      <th>Garage Cars</th>\n",
              "      <th>Garage Area</th>\n",
              "      <th>Kitchen Qual</th>\n",
              "      <th>Total Bsmt SF</th>\n",
              "      <th>1st Flr SF</th>\n",
              "      <th>Bsmt Qual</th>\n",
              "      <th>Full Bath</th>\n",
              "      <th>Year Built</th>\n",
              "      <th>Year Remod/Add</th>\n",
              "      <th>Garage Yr Blt</th>\n",
              "      <th>target</th>\n",
              "    </tr>\n",
              "  </thead>\n",
              "  <tbody>\n",
              "    <tr>\n",
              "      <th>254</th>\n",
              "      <td>255</td>\n",
              "      <td>8</td>\n",
              "      <td>1564</td>\n",
              "      <td>Gd</td>\n",
              "      <td>2</td>\n",
              "      <td>502</td>\n",
              "      <td>Ex</td>\n",
              "      <td>1546</td>\n",
              "      <td>1564</td>\n",
              "      <td>Gd</td>\n",
              "      <td>2</td>\n",
              "      <td>2006</td>\n",
              "      <td>2007</td>\n",
              "      <td>2207</td>\n",
              "      <td>267300</td>\n",
              "    </tr>\n",
              "  </tbody>\n",
              "</table>\n",
              "</div>\n",
              "      <button class=\"colab-df-convert\" onclick=\"convertToInteractive('df-a96daa47-6a15-4793-88a6-ecf24a60cdf0')\"\n",
              "              title=\"Convert this dataframe to an interactive table.\"\n",
              "              style=\"display:none;\">\n",
              "        \n",
              "  <svg xmlns=\"http://www.w3.org/2000/svg\" height=\"24px\"viewBox=\"0 0 24 24\"\n",
              "       width=\"24px\">\n",
              "    <path d=\"M0 0h24v24H0V0z\" fill=\"none\"/>\n",
              "    <path d=\"M18.56 5.44l.94 2.06.94-2.06 2.06-.94-2.06-.94-.94-2.06-.94 2.06-2.06.94zm-11 1L8.5 8.5l.94-2.06 2.06-.94-2.06-.94L8.5 2.5l-.94 2.06-2.06.94zm10 10l.94 2.06.94-2.06 2.06-.94-2.06-.94-.94-2.06-.94 2.06-2.06.94z\"/><path d=\"M17.41 7.96l-1.37-1.37c-.4-.4-.92-.59-1.43-.59-.52 0-1.04.2-1.43.59L10.3 9.45l-7.72 7.72c-.78.78-.78 2.05 0 2.83L4 21.41c.39.39.9.59 1.41.59.51 0 1.02-.2 1.41-.59l7.78-7.78 2.81-2.81c.8-.78.8-2.07 0-2.86zM5.41 20L4 18.59l7.72-7.72 1.47 1.35L5.41 20z\"/>\n",
              "  </svg>\n",
              "      </button>\n",
              "      \n",
              "  <style>\n",
              "    .colab-df-container {\n",
              "      display:flex;\n",
              "      flex-wrap:wrap;\n",
              "      gap: 12px;\n",
              "    }\n",
              "\n",
              "    .colab-df-convert {\n",
              "      background-color: #E8F0FE;\n",
              "      border: none;\n",
              "      border-radius: 50%;\n",
              "      cursor: pointer;\n",
              "      display: none;\n",
              "      fill: #1967D2;\n",
              "      height: 32px;\n",
              "      padding: 0 0 0 0;\n",
              "      width: 32px;\n",
              "    }\n",
              "\n",
              "    .colab-df-convert:hover {\n",
              "      background-color: #E2EBFA;\n",
              "      box-shadow: 0px 1px 2px rgba(60, 64, 67, 0.3), 0px 1px 3px 1px rgba(60, 64, 67, 0.15);\n",
              "      fill: #174EA6;\n",
              "    }\n",
              "\n",
              "    [theme=dark] .colab-df-convert {\n",
              "      background-color: #3B4455;\n",
              "      fill: #D2E3FC;\n",
              "    }\n",
              "\n",
              "    [theme=dark] .colab-df-convert:hover {\n",
              "      background-color: #434B5C;\n",
              "      box-shadow: 0px 1px 3px 1px rgba(0, 0, 0, 0.15);\n",
              "      filter: drop-shadow(0px 1px 2px rgba(0, 0, 0, 0.3));\n",
              "      fill: #FFFFFF;\n",
              "    }\n",
              "  </style>\n",
              "\n",
              "      <script>\n",
              "        const buttonEl =\n",
              "          document.querySelector('#df-a96daa47-6a15-4793-88a6-ecf24a60cdf0 button.colab-df-convert');\n",
              "        buttonEl.style.display =\n",
              "          google.colab.kernel.accessAllowed ? 'block' : 'none';\n",
              "\n",
              "        async function convertToInteractive(key) {\n",
              "          const element = document.querySelector('#df-a96daa47-6a15-4793-88a6-ecf24a60cdf0');\n",
              "          const dataTable =\n",
              "            await google.colab.kernel.invokeFunction('convertToInteractive',\n",
              "                                                     [key], {});\n",
              "          if (!dataTable) return;\n",
              "\n",
              "          const docLinkHtml = 'Like what you see? Visit the ' +\n",
              "            '<a target=\"_blank\" href=https://colab.research.google.com/notebooks/data_table.ipynb>data table notebook</a>'\n",
              "            + ' to learn more about interactive tables.';\n",
              "          element.innerHTML = '';\n",
              "          dataTable['output_type'] = 'display_data';\n",
              "          await google.colab.output.renderOutput(dataTable, element);\n",
              "          const docLink = document.createElement('div');\n",
              "          docLink.innerHTML = docLinkHtml;\n",
              "          element.appendChild(docLink);\n",
              "        }\n",
              "      </script>\n",
              "    </div>\n",
              "  </div>\n",
              "  "
            ]
          },
          "metadata": {},
          "execution_count": 7
        }
      ]
    },
    {
      "cell_type": "code",
      "source": [
        "X_train_df[X_train_df['Year Built']==2006]"
      ],
      "metadata": {
        "colab": {
          "base_uri": "https://localhost:8080/",
          "height": 423
        },
        "id": "tXfWK4FFZPpG",
        "outputId": "7b33d0c7-36e7-4515-8450-cf5728b64655"
      },
      "execution_count": null,
      "outputs": [
        {
          "output_type": "execute_result",
          "data": {
            "text/plain": [
              "        id  Overall Qual  Gr Liv Area Exter Qual  Garage Cars  Garage Area  \\\n",
              "1        2             7         1352         Gd            2          466   \n",
              "19      20             6         1326         Gd            2          427   \n",
              "67      68             8         1460         Gd            2          480   \n",
              "97      98             6         1495         Gd            2          440   \n",
              "102    103             8         1324         Gd            2          550   \n",
              "...    ...           ...          ...        ...          ...          ...   \n",
              "1288  1289             7         1977         Gd            3          574   \n",
              "1327  1328             8         1634         Gd            3          866   \n",
              "1328  1329             8         1370         Gd            2          484   \n",
              "1336  1337            10         2698         Ex            3          736   \n",
              "1346  1347             9         2748         Gd            3          850   \n",
              "\n",
              "     Kitchen Qual  Total Bsmt SF  1st Flr SF Bsmt Qual  Full Bath  Year Built  \\\n",
              "1              Gd           1352        1352        Ex          2        2006   \n",
              "19             Gd           1326        1326        Gd          2        2006   \n",
              "67             Gd           1460        1460        Ex          2        2006   \n",
              "97             Gd            738         738        Gd          2        2006   \n",
              "102            Gd           1324        1324        Gd          2        2006   \n",
              "...           ...            ...         ...       ...        ...         ...   \n",
              "1288           Gd            982         982        Gd          2        2006   \n",
              "1327           Gd           1626        1634        Gd          2        2006   \n",
              "1328           Gd           1370        1370        Gd          2        2006   \n",
              "1336           Ex           1850        1850        Ex          2        2006   \n",
              "1346           Ex           1850        1850        Ex          2        2006   \n",
              "\n",
              "      Year Remod/Add  Garage Yr Blt  target  \n",
              "1               2007           2006  194000  \n",
              "19              2006           2006  174190  \n",
              "67              2007           2006  247000  \n",
              "97              2006           2006  171925  \n",
              "102             2006           2006  254000  \n",
              "...              ...            ...     ...  \n",
              "1288            2006           2006  250000  \n",
              "1327            2006           2006  250000  \n",
              "1328            2006           2006  205000  \n",
              "1336            2006           2006  535000  \n",
              "1346            2006           2006  390000  \n",
              "\n",
              "[63 rows x 15 columns]"
            ],
            "text/html": [
              "\n",
              "  <div id=\"df-a0735e66-2ab5-454a-bdb4-272f63585784\">\n",
              "    <div class=\"colab-df-container\">\n",
              "      <div>\n",
              "<style scoped>\n",
              "    .dataframe tbody tr th:only-of-type {\n",
              "        vertical-align: middle;\n",
              "    }\n",
              "\n",
              "    .dataframe tbody tr th {\n",
              "        vertical-align: top;\n",
              "    }\n",
              "\n",
              "    .dataframe thead th {\n",
              "        text-align: right;\n",
              "    }\n",
              "</style>\n",
              "<table border=\"1\" class=\"dataframe\">\n",
              "  <thead>\n",
              "    <tr style=\"text-align: right;\">\n",
              "      <th></th>\n",
              "      <th>id</th>\n",
              "      <th>Overall Qual</th>\n",
              "      <th>Gr Liv Area</th>\n",
              "      <th>Exter Qual</th>\n",
              "      <th>Garage Cars</th>\n",
              "      <th>Garage Area</th>\n",
              "      <th>Kitchen Qual</th>\n",
              "      <th>Total Bsmt SF</th>\n",
              "      <th>1st Flr SF</th>\n",
              "      <th>Bsmt Qual</th>\n",
              "      <th>Full Bath</th>\n",
              "      <th>Year Built</th>\n",
              "      <th>Year Remod/Add</th>\n",
              "      <th>Garage Yr Blt</th>\n",
              "      <th>target</th>\n",
              "    </tr>\n",
              "  </thead>\n",
              "  <tbody>\n",
              "    <tr>\n",
              "      <th>1</th>\n",
              "      <td>2</td>\n",
              "      <td>7</td>\n",
              "      <td>1352</td>\n",
              "      <td>Gd</td>\n",
              "      <td>2</td>\n",
              "      <td>466</td>\n",
              "      <td>Gd</td>\n",
              "      <td>1352</td>\n",
              "      <td>1352</td>\n",
              "      <td>Ex</td>\n",
              "      <td>2</td>\n",
              "      <td>2006</td>\n",
              "      <td>2007</td>\n",
              "      <td>2006</td>\n",
              "      <td>194000</td>\n",
              "    </tr>\n",
              "    <tr>\n",
              "      <th>19</th>\n",
              "      <td>20</td>\n",
              "      <td>6</td>\n",
              "      <td>1326</td>\n",
              "      <td>Gd</td>\n",
              "      <td>2</td>\n",
              "      <td>427</td>\n",
              "      <td>Gd</td>\n",
              "      <td>1326</td>\n",
              "      <td>1326</td>\n",
              "      <td>Gd</td>\n",
              "      <td>2</td>\n",
              "      <td>2006</td>\n",
              "      <td>2006</td>\n",
              "      <td>2006</td>\n",
              "      <td>174190</td>\n",
              "    </tr>\n",
              "    <tr>\n",
              "      <th>67</th>\n",
              "      <td>68</td>\n",
              "      <td>8</td>\n",
              "      <td>1460</td>\n",
              "      <td>Gd</td>\n",
              "      <td>2</td>\n",
              "      <td>480</td>\n",
              "      <td>Gd</td>\n",
              "      <td>1460</td>\n",
              "      <td>1460</td>\n",
              "      <td>Ex</td>\n",
              "      <td>2</td>\n",
              "      <td>2006</td>\n",
              "      <td>2007</td>\n",
              "      <td>2006</td>\n",
              "      <td>247000</td>\n",
              "    </tr>\n",
              "    <tr>\n",
              "      <th>97</th>\n",
              "      <td>98</td>\n",
              "      <td>6</td>\n",
              "      <td>1495</td>\n",
              "      <td>Gd</td>\n",
              "      <td>2</td>\n",
              "      <td>440</td>\n",
              "      <td>Gd</td>\n",
              "      <td>738</td>\n",
              "      <td>738</td>\n",
              "      <td>Gd</td>\n",
              "      <td>2</td>\n",
              "      <td>2006</td>\n",
              "      <td>2006</td>\n",
              "      <td>2006</td>\n",
              "      <td>171925</td>\n",
              "    </tr>\n",
              "    <tr>\n",
              "      <th>102</th>\n",
              "      <td>103</td>\n",
              "      <td>8</td>\n",
              "      <td>1324</td>\n",
              "      <td>Gd</td>\n",
              "      <td>2</td>\n",
              "      <td>550</td>\n",
              "      <td>Gd</td>\n",
              "      <td>1324</td>\n",
              "      <td>1324</td>\n",
              "      <td>Gd</td>\n",
              "      <td>2</td>\n",
              "      <td>2006</td>\n",
              "      <td>2006</td>\n",
              "      <td>2006</td>\n",
              "      <td>254000</td>\n",
              "    </tr>\n",
              "    <tr>\n",
              "      <th>...</th>\n",
              "      <td>...</td>\n",
              "      <td>...</td>\n",
              "      <td>...</td>\n",
              "      <td>...</td>\n",
              "      <td>...</td>\n",
              "      <td>...</td>\n",
              "      <td>...</td>\n",
              "      <td>...</td>\n",
              "      <td>...</td>\n",
              "      <td>...</td>\n",
              "      <td>...</td>\n",
              "      <td>...</td>\n",
              "      <td>...</td>\n",
              "      <td>...</td>\n",
              "      <td>...</td>\n",
              "    </tr>\n",
              "    <tr>\n",
              "      <th>1288</th>\n",
              "      <td>1289</td>\n",
              "      <td>7</td>\n",
              "      <td>1977</td>\n",
              "      <td>Gd</td>\n",
              "      <td>3</td>\n",
              "      <td>574</td>\n",
              "      <td>Gd</td>\n",
              "      <td>982</td>\n",
              "      <td>982</td>\n",
              "      <td>Gd</td>\n",
              "      <td>2</td>\n",
              "      <td>2006</td>\n",
              "      <td>2006</td>\n",
              "      <td>2006</td>\n",
              "      <td>250000</td>\n",
              "    </tr>\n",
              "    <tr>\n",
              "      <th>1327</th>\n",
              "      <td>1328</td>\n",
              "      <td>8</td>\n",
              "      <td>1634</td>\n",
              "      <td>Gd</td>\n",
              "      <td>3</td>\n",
              "      <td>866</td>\n",
              "      <td>Gd</td>\n",
              "      <td>1626</td>\n",
              "      <td>1634</td>\n",
              "      <td>Gd</td>\n",
              "      <td>2</td>\n",
              "      <td>2006</td>\n",
              "      <td>2006</td>\n",
              "      <td>2006</td>\n",
              "      <td>250000</td>\n",
              "    </tr>\n",
              "    <tr>\n",
              "      <th>1328</th>\n",
              "      <td>1329</td>\n",
              "      <td>8</td>\n",
              "      <td>1370</td>\n",
              "      <td>Gd</td>\n",
              "      <td>2</td>\n",
              "      <td>484</td>\n",
              "      <td>Gd</td>\n",
              "      <td>1370</td>\n",
              "      <td>1370</td>\n",
              "      <td>Gd</td>\n",
              "      <td>2</td>\n",
              "      <td>2006</td>\n",
              "      <td>2006</td>\n",
              "      <td>2006</td>\n",
              "      <td>205000</td>\n",
              "    </tr>\n",
              "    <tr>\n",
              "      <th>1336</th>\n",
              "      <td>1337</td>\n",
              "      <td>10</td>\n",
              "      <td>2698</td>\n",
              "      <td>Ex</td>\n",
              "      <td>3</td>\n",
              "      <td>736</td>\n",
              "      <td>Ex</td>\n",
              "      <td>1850</td>\n",
              "      <td>1850</td>\n",
              "      <td>Ex</td>\n",
              "      <td>2</td>\n",
              "      <td>2006</td>\n",
              "      <td>2006</td>\n",
              "      <td>2006</td>\n",
              "      <td>535000</td>\n",
              "    </tr>\n",
              "    <tr>\n",
              "      <th>1346</th>\n",
              "      <td>1347</td>\n",
              "      <td>9</td>\n",
              "      <td>2748</td>\n",
              "      <td>Gd</td>\n",
              "      <td>3</td>\n",
              "      <td>850</td>\n",
              "      <td>Ex</td>\n",
              "      <td>1850</td>\n",
              "      <td>1850</td>\n",
              "      <td>Ex</td>\n",
              "      <td>2</td>\n",
              "      <td>2006</td>\n",
              "      <td>2006</td>\n",
              "      <td>2006</td>\n",
              "      <td>390000</td>\n",
              "    </tr>\n",
              "  </tbody>\n",
              "</table>\n",
              "<p>63 rows × 15 columns</p>\n",
              "</div>\n",
              "      <button class=\"colab-df-convert\" onclick=\"convertToInteractive('df-a0735e66-2ab5-454a-bdb4-272f63585784')\"\n",
              "              title=\"Convert this dataframe to an interactive table.\"\n",
              "              style=\"display:none;\">\n",
              "        \n",
              "  <svg xmlns=\"http://www.w3.org/2000/svg\" height=\"24px\"viewBox=\"0 0 24 24\"\n",
              "       width=\"24px\">\n",
              "    <path d=\"M0 0h24v24H0V0z\" fill=\"none\"/>\n",
              "    <path d=\"M18.56 5.44l.94 2.06.94-2.06 2.06-.94-2.06-.94-.94-2.06-.94 2.06-2.06.94zm-11 1L8.5 8.5l.94-2.06 2.06-.94-2.06-.94L8.5 2.5l-.94 2.06-2.06.94zm10 10l.94 2.06.94-2.06 2.06-.94-2.06-.94-.94-2.06-.94 2.06-2.06.94z\"/><path d=\"M17.41 7.96l-1.37-1.37c-.4-.4-.92-.59-1.43-.59-.52 0-1.04.2-1.43.59L10.3 9.45l-7.72 7.72c-.78.78-.78 2.05 0 2.83L4 21.41c.39.39.9.59 1.41.59.51 0 1.02-.2 1.41-.59l7.78-7.78 2.81-2.81c.8-.78.8-2.07 0-2.86zM5.41 20L4 18.59l7.72-7.72 1.47 1.35L5.41 20z\"/>\n",
              "  </svg>\n",
              "      </button>\n",
              "      \n",
              "  <style>\n",
              "    .colab-df-container {\n",
              "      display:flex;\n",
              "      flex-wrap:wrap;\n",
              "      gap: 12px;\n",
              "    }\n",
              "\n",
              "    .colab-df-convert {\n",
              "      background-color: #E8F0FE;\n",
              "      border: none;\n",
              "      border-radius: 50%;\n",
              "      cursor: pointer;\n",
              "      display: none;\n",
              "      fill: #1967D2;\n",
              "      height: 32px;\n",
              "      padding: 0 0 0 0;\n",
              "      width: 32px;\n",
              "    }\n",
              "\n",
              "    .colab-df-convert:hover {\n",
              "      background-color: #E2EBFA;\n",
              "      box-shadow: 0px 1px 2px rgba(60, 64, 67, 0.3), 0px 1px 3px 1px rgba(60, 64, 67, 0.15);\n",
              "      fill: #174EA6;\n",
              "    }\n",
              "\n",
              "    [theme=dark] .colab-df-convert {\n",
              "      background-color: #3B4455;\n",
              "      fill: #D2E3FC;\n",
              "    }\n",
              "\n",
              "    [theme=dark] .colab-df-convert:hover {\n",
              "      background-color: #434B5C;\n",
              "      box-shadow: 0px 1px 3px 1px rgba(0, 0, 0, 0.15);\n",
              "      filter: drop-shadow(0px 1px 2px rgba(0, 0, 0, 0.3));\n",
              "      fill: #FFFFFF;\n",
              "    }\n",
              "  </style>\n",
              "\n",
              "      <script>\n",
              "        const buttonEl =\n",
              "          document.querySelector('#df-a0735e66-2ab5-454a-bdb4-272f63585784 button.colab-df-convert');\n",
              "        buttonEl.style.display =\n",
              "          google.colab.kernel.accessAllowed ? 'block' : 'none';\n",
              "\n",
              "        async function convertToInteractive(key) {\n",
              "          const element = document.querySelector('#df-a0735e66-2ab5-454a-bdb4-272f63585784');\n",
              "          const dataTable =\n",
              "            await google.colab.kernel.invokeFunction('convertToInteractive',\n",
              "                                                     [key], {});\n",
              "          if (!dataTable) return;\n",
              "\n",
              "          const docLinkHtml = 'Like what you see? Visit the ' +\n",
              "            '<a target=\"_blank\" href=https://colab.research.google.com/notebooks/data_table.ipynb>data table notebook</a>'\n",
              "            + ' to learn more about interactive tables.';\n",
              "          element.innerHTML = '';\n",
              "          dataTable['output_type'] = 'display_data';\n",
              "          await google.colab.output.renderOutput(dataTable, element);\n",
              "          const docLink = document.createElement('div');\n",
              "          docLink.innerHTML = docLinkHtml;\n",
              "          element.appendChild(docLink);\n",
              "        }\n",
              "      </script>\n",
              "    </div>\n",
              "  </div>\n",
              "  "
            ]
          },
          "metadata": {},
          "execution_count": 8
        }
      ]
    },
    {
      "cell_type": "code",
      "source": [
        "# train 데이터 수정 (2207 비정상적 숫자를 2006으로 변경)\n",
        "X_train_df.loc[(X_train_df['Garage Yr Blt'] == 2207), 'Garage Yr Blt']=2006\n",
        "#df.loc(row, col) : df에 대한 인덱싱"
      ],
      "metadata": {
        "id": "xzHKz1b2ZdsZ"
      },
      "execution_count": null,
      "outputs": []
    },
    {
      "cell_type": "code",
      "source": [
        "# 범주 형식의 데이터를 숫자로 변환(Label-인코딩 방법)\n",
        "# 'X_train' 데이터를 인코딩\n",
        "X_train_df=X_train_df.copy()\n",
        "X_train_df[X_train_df.columns[X_train_df.dtypes=='O']] = X_train_df[X_train_df.columns[X_train_df.dtypes=='O']].astype(str).apply(LabelEncoder().fit_transform)\n",
        "# astype() : 데이터 타입 바꾸기, LabelEncoder() : 라벨인코딩\n",
        "# 데이터 타입이 object인 columns만 선택해서 indexing = str로 데이터 타입을 바꾼 후 LabelEncoder() 함수를 적용\n",
        "X_train_df.info() # 데이터 변경 확인"
      ],
      "metadata": {
        "colab": {
          "base_uri": "https://localhost:8080/"
        },
        "id": "T37jh4CGUUtu",
        "outputId": "ca0f1c98-7da2-4fa8-83f1-0fdc4d28501a"
      },
      "execution_count": null,
      "outputs": [
        {
          "output_type": "stream",
          "name": "stdout",
          "text": [
            "<class 'pandas.core.frame.DataFrame'>\n",
            "RangeIndex: 1350 entries, 0 to 1349\n",
            "Data columns (total 15 columns):\n",
            " #   Column          Non-Null Count  Dtype\n",
            "---  ------          --------------  -----\n",
            " 0   id              1350 non-null   int64\n",
            " 1   Overall Qual    1350 non-null   int64\n",
            " 2   Gr Liv Area     1350 non-null   int64\n",
            " 3   Exter Qual      1350 non-null   int64\n",
            " 4   Garage Cars     1350 non-null   int64\n",
            " 5   Garage Area     1350 non-null   int64\n",
            " 6   Kitchen Qual    1350 non-null   int64\n",
            " 7   Total Bsmt SF   1350 non-null   int64\n",
            " 8   1st Flr SF      1350 non-null   int64\n",
            " 9   Bsmt Qual       1350 non-null   int64\n",
            " 10  Full Bath       1350 non-null   int64\n",
            " 11  Year Built      1350 non-null   int64\n",
            " 12  Year Remod/Add  1350 non-null   int64\n",
            " 13  Garage Yr Blt   1350 non-null   int64\n",
            " 14  target          1350 non-null   int64\n",
            "dtypes: int64(15)\n",
            "memory usage: 158.3 KB\n"
          ]
        }
      ]
    },
    {
      "cell_type": "code",
      "source": [
        "# 범주 형식의 데이터를 숫자로 변환(Label-인코딩 방법)\n",
        "# 'X_test' 데이터를 인코딩\n",
        "X_test_df=X_test_df.copy()\n",
        "X_test_df[X_test_df.columns[X_test_df.dtypes=='O']] = X_test_df[X_test_df.columns[X_test_df.dtypes=='O']].astype(str).apply(LabelEncoder().fit_transform)\n",
        "# astype() : 데이터 타입 바꾸기, LabelEncoder() : 라벨인코딩\n",
        "# 데이터 타입이 object인 columns만 선택해서 indexing = str로 데이터 타입을 바꾼 후 LabelEncoder() 함수를 적용\n",
        "X_test_df.info() # 데이터 변경 확인"
      ],
      "metadata": {
        "colab": {
          "base_uri": "https://localhost:8080/"
        },
        "id": "kQK7jUsC0uNe",
        "outputId": "3a5cdf40-e0cb-4a83-f0a0-cc1710efd376"
      },
      "execution_count": null,
      "outputs": [
        {
          "output_type": "stream",
          "name": "stdout",
          "text": [
            "<class 'pandas.core.frame.DataFrame'>\n",
            "RangeIndex: 1350 entries, 0 to 1349\n",
            "Data columns (total 14 columns):\n",
            " #   Column          Non-Null Count  Dtype\n",
            "---  ------          --------------  -----\n",
            " 0   id              1350 non-null   int64\n",
            " 1   Overall Qual    1350 non-null   int64\n",
            " 2   Gr Liv Area     1350 non-null   int64\n",
            " 3   Exter Qual      1350 non-null   int64\n",
            " 4   Garage Cars     1350 non-null   int64\n",
            " 5   Garage Area     1350 non-null   int64\n",
            " 6   Kitchen Qual    1350 non-null   int64\n",
            " 7   Total Bsmt SF   1350 non-null   int64\n",
            " 8   1st Flr SF      1350 non-null   int64\n",
            " 9   Bsmt Qual       1350 non-null   int64\n",
            " 10  Full Bath       1350 non-null   int64\n",
            " 11  Year Built      1350 non-null   int64\n",
            " 12  Year Remod/Add  1350 non-null   int64\n",
            " 13  Garage Yr Blt   1350 non-null   int64\n",
            "dtypes: int64(14)\n",
            "memory usage: 147.8 KB\n"
          ]
        }
      ]
    },
    {
      "cell_type": "code",
      "source": [
        "# X, y에 대한 설정\n",
        "X=X_train_df.drop(['id', 'target'], axis=1) # 불필요 변수 제거\n",
        "y=X_train_df.target # y에는 target 열만 나오도록 설정\n",
        "X_test_forc = X_test_df.drop(['id'], axis=1) # K-fold 이전의 catboost 값 도출 용도\n",
        "X.info()"
      ],
      "metadata": {
        "colab": {
          "base_uri": "https://localhost:8080/"
        },
        "id": "E1kGjUm5_jzE",
        "outputId": "d6cbfefb-77c9-4dc7-e8dd-83c6dd105761"
      },
      "execution_count": null,
      "outputs": [
        {
          "output_type": "stream",
          "name": "stdout",
          "text": [
            "<class 'pandas.core.frame.DataFrame'>\n",
            "RangeIndex: 1350 entries, 0 to 1349\n",
            "Data columns (total 13 columns):\n",
            " #   Column          Non-Null Count  Dtype\n",
            "---  ------          --------------  -----\n",
            " 0   Overall Qual    1350 non-null   int64\n",
            " 1   Gr Liv Area     1350 non-null   int64\n",
            " 2   Exter Qual      1350 non-null   int64\n",
            " 3   Garage Cars     1350 non-null   int64\n",
            " 4   Garage Area     1350 non-null   int64\n",
            " 5   Kitchen Qual    1350 non-null   int64\n",
            " 6   Total Bsmt SF   1350 non-null   int64\n",
            " 7   1st Flr SF      1350 non-null   int64\n",
            " 8   Bsmt Qual       1350 non-null   int64\n",
            " 9   Full Bath       1350 non-null   int64\n",
            " 10  Year Built      1350 non-null   int64\n",
            " 11  Year Remod/Add  1350 non-null   int64\n",
            " 12  Garage Yr Blt   1350 non-null   int64\n",
            "dtypes: int64(13)\n",
            "memory usage: 137.2 KB\n"
          ]
        }
      ]
    },
    {
      "cell_type": "code",
      "source": [
        "# 파생변수 생성\n",
        "# 변수 선택을 위해 후진제거법 사용\n",
        "# 후진제거법 : 모든 변수가 포함된 모형에서 불필요한 변수들을 제거해 나가는 과정 반복\n",
        "# 결론 : 모든 변수를 활용할 때 가장 좋은 성능을 보임\n",
        "def feature(data):\n",
        "  df = data.copy()\n",
        "  df['Year Gap Remod'] = df['Year Remod/Add'] - df['Year Built'] # Year Gap Remod(연도 차이) = '리모델링 연도' - '완공 연도'\n",
        "  df['Car Area'] = df['Garage Area']/df['Garage Cars'] # Car Area (1대당 차고 사용 면적) ='차고 면적' / '차고 자리 개수'\n",
        "  df['2nd flr SF'] = df['Gr Liv Area'] - df['1st Flr SF'] # '2nd flr SF(2층 면적)' = '지상층 생활 면적' - '1층 면적'\n",
        "  df['2nd flr'] = df['2nd flr SF'].apply(lambda x : 1 if x > 0 else 0) # '2nd flr(2층 유무 확인)' = 2층 면적이 0이면 0, 그 외이면 1 입력\n",
        "  df['Total SF'] = df[['Gr Liv Area',\"Garage Area\", \"Total Bsmt SF\"]].sum(axis=1) # Total SF(총 면적) = '지상층 생활 면적' + '차고 면적' + '지하실 면적'\n",
        "  df['Sum Qual'] = df[[\"Exter Qual\", \"Kitchen Qual\", \"Overall Qual\"]].sum(axis=1) # Sum Qual(총 품질) = '외관 재료 품질' + '부엌 품질' + '전반적 재료와 마감 품질'\n",
        "  df['Garage InOut'] = df.apply(lambda x : 1 if x['Gr Liv Area'] != x['1st Flr SF'] else 0, axis=1) # Garage InO(ut차고 위치 확인) = '지상층 생활 면적' = '1층 면적' 이면 1, 아니면 0\n",
        "  return df"
      ],
      "metadata": {
        "id": "Y-KEpWGJWX6y"
      },
      "execution_count": null,
      "outputs": []
    },
    {
      "cell_type": "code",
      "source": [
        "# X에 파생 변수 추가\n",
        "X=feature(X)\n",
        "X_test_c = feature(X_test_forc) # K-fold 이전의 catboost 값 도출 용도\n",
        "X.info()"
      ],
      "metadata": {
        "colab": {
          "base_uri": "https://localhost:8080/"
        },
        "id": "qZqYZLgj0pXZ",
        "outputId": "3ae7a4ad-baae-4128-81d3-1fa1a215fcfc"
      },
      "execution_count": null,
      "outputs": [
        {
          "output_type": "stream",
          "name": "stdout",
          "text": [
            "<class 'pandas.core.frame.DataFrame'>\n",
            "RangeIndex: 1350 entries, 0 to 1349\n",
            "Data columns (total 20 columns):\n",
            " #   Column          Non-Null Count  Dtype  \n",
            "---  ------          --------------  -----  \n",
            " 0   Overall Qual    1350 non-null   int64  \n",
            " 1   Gr Liv Area     1350 non-null   int64  \n",
            " 2   Exter Qual      1350 non-null   int64  \n",
            " 3   Garage Cars     1350 non-null   int64  \n",
            " 4   Garage Area     1350 non-null   int64  \n",
            " 5   Kitchen Qual    1350 non-null   int64  \n",
            " 6   Total Bsmt SF   1350 non-null   int64  \n",
            " 7   1st Flr SF      1350 non-null   int64  \n",
            " 8   Bsmt Qual       1350 non-null   int64  \n",
            " 9   Full Bath       1350 non-null   int64  \n",
            " 10  Year Built      1350 non-null   int64  \n",
            " 11  Year Remod/Add  1350 non-null   int64  \n",
            " 12  Garage Yr Blt   1350 non-null   int64  \n",
            " 13  Year Gap Remod  1350 non-null   int64  \n",
            " 14  Car Area        1350 non-null   float64\n",
            " 15  2nd flr SF      1350 non-null   int64  \n",
            " 16  2nd flr         1350 non-null   int64  \n",
            " 17  Total SF        1350 non-null   int64  \n",
            " 18  Sum Qual        1350 non-null   int64  \n",
            " 19  Garage InOut    1350 non-null   int64  \n",
            "dtypes: float64(1), int64(19)\n",
            "memory usage: 211.1 KB\n"
          ]
        }
      ]
    },
    {
      "cell_type": "code",
      "source": [
        "#  학습셋과 검증셋 나누기\n",
        "X_train, X_valid, y_train, y_valid=train_test_split(X,y,test_size=0.2, random_state=0)"
      ],
      "metadata": {
        "id": "OaCZb8dMeBVY"
      },
      "execution_count": null,
      "outputs": []
    },
    {
      "cell_type": "code",
      "source": [
        "# 점수 채점식 생성\n",
        "from sklearn.metrics import make_scorer\n",
        "\n",
        "def NMAE(true, pred):\n",
        "    mae = np.mean(np.abs(true - pred))\n",
        "    score = mae / np.mean(np.abs(true))\n",
        "    return score\n",
        "\n",
        "nmae_score = make_scorer(NMAE, greater_is_better=False) # make_scorer(함수명, greater_is_better=Boolean)\n",
        "                                                        # greater_is_better : 높은게 좋은지, 낮은게 좋은지 표시"
      ],
      "metadata": {
        "id": "XnukwZpy-7eX"
      },
      "execution_count": null,
      "outputs": []
    },
    {
      "cell_type": "code",
      "source": [
        "# 회귀 모델링 불러오기\n",
        "from sklearn.ensemble import RandomForestRegressor, GradientBoostingRegressor\n",
        "from sklearn.tree import DecisionTreeRegressor\n",
        "from sklearn.ensemble import ExtraTreesRegressor\n",
        "from xgboost import XGBRegressor\n",
        "from lightgbm import LGBMRegressor\n",
        "from sklearn.linear_model import ElasticNet\n",
        "from sklearn.ensemble import AdaBoostRegressor\n",
        "from catboost import CatBoostRegressor, Pool\n",
        "from ngboost import NGBRegressor\n",
        "from sklearn.ensemble import HistGradientBoostingRegressor\n",
        "from sklearn.linear_model import LinearRegression, Lasso, Ridge, ElasticNet"
      ],
      "metadata": {
        "id": "csNyakxuBfvV"
      },
      "execution_count": null,
      "outputs": []
    },
    {
      "cell_type": "code",
      "source": [
        "# 회귀 모델링 정의(하이퍼 파라미터 조정)\n",
        "etr=ExtraTreesRegressor(n_estimators=200)\n",
        "lr=LinearRegression()\n",
        "rg=Ridge()\n",
        "rf=RandomForestRegressor(random_state = 42, criterion = 'mae')\n",
        "gbr=GradientBoostingRegressor(random_state = 42, max_depth = 4, learning_rate=0.09, loss='huber', n_estimators=130)\n",
        "xgb=XGBRegressor(random_state = 42, learning_rate=0.05, n_estimators=200)\n",
        "lgb=LGBMRegressor(random_state = 42, learning_rate=0.05, n_estimators=200)\n",
        "ada=AdaBoostRegressor(random_state = 42, learning_rate=0.03, n_estimators=100)\n",
        "hgb=HistGradientBoostingRegressor(random_state=42, scoring=nmae_score, learning_rate=0.09)\n",
        "ngb=NGBRegressor(random_state = 42, n_estimators = 500, verbose = 0, learning_rate = 0.03)\n",
        "cat_reg=CatBoostRegressor(depth = 4, random_state = 42, loss_function = 'MAE', n_estimators = 3000, learning_rate = 0.03, verbose = 0)"
      ],
      "metadata": {
        "id": "uVYsJeXLFRqJ"
      },
      "execution_count": null,
      "outputs": []
    },
    {
      "cell_type": "code",
      "source": [
        "# 데이터 학습 : ML.fit(X_train, y_train)\n",
        "etr.fit(X_train,y_train)\n",
        "lr.fit(X_train,y_train)\n",
        "rg.fit(X_train,y_train)\n",
        "rf.fit(X_train,y_train)\n",
        "gbr.fit(X_train,y_train)\n",
        "xgb.fit(X_train,y_train)\n",
        "lgb.fit(X_train,y_train)\n",
        "ada.fit(X_train,y_train)\n",
        "hgb.fit(X_train,y_train)\n",
        "ngb.fit(X_train,y_train)\n",
        "cat_reg.fit(X_train,y_train)"
      ],
      "metadata": {
        "colab": {
          "base_uri": "https://localhost:8080/"
        },
        "id": "glJy7AZnHyH7",
        "outputId": "832c1a89-4b01-4d25-eff1-33e4f3e1ee87"
      },
      "execution_count": null,
      "outputs": [
        {
          "output_type": "stream",
          "name": "stdout",
          "text": [
            "[14:48:28] WARNING: /workspace/src/objective/regression_obj.cu:152: reg:linear is now deprecated in favor of reg:squarederror.\n"
          ]
        },
        {
          "output_type": "execute_result",
          "data": {
            "text/plain": [
              "<catboost.core.CatBoostRegressor at 0x7f6492fa0f50>"
            ]
          },
          "metadata": {},
          "execution_count": 40
        }
      ]
    },
    {
      "cell_type": "code",
      "source": [
        "# 데이터 검증 예측값 저장\n",
        "y_etr=etr.predict(X_valid)\n",
        "y_lr=lr.predict(X_valid)\n",
        "y_rg=rg.predict(X_valid)\n",
        "y_rf=rf.predict(X_valid)\n",
        "y_gbr=gbr.predict(X_valid)\n",
        "y_xgb=xgb.predict(X_valid)\n",
        "y_lgb=lgb.predict(X_valid)\n",
        "y_ada=ada.predict(X_valid)\n",
        "y_hgb=hgb.predict(X_valid)\n",
        "y_ngb=ngb.predict(X_valid)\n",
        "y_cat=cat_reg.predict(X_valid)"
      ],
      "metadata": {
        "id": "C5DmqI8OH40u"
      },
      "execution_count": null,
      "outputs": []
    },
    {
      "cell_type": "code",
      "source": [
        "# 평가지표에 삽입 - 실제값과 예측값 비교\n",
        "score_etr=NMAE(y_valid, y_etr)\n",
        "score_lr=NMAE(y_valid, y_lr)\n",
        "score_rg=NMAE(y_valid, y_rg)\n",
        "score_rf=NMAE(y_valid, y_rf)\n",
        "score_gbr=NMAE(y_valid, y_gbr)\n",
        "score_xgb=NMAE(y_valid, y_xgb)\n",
        "score_lgb=NMAE(y_valid, y_lgb)\n",
        "score_ada=NMAE(y_valid, y_ada)\n",
        "score_hgb=NMAE(y_valid, y_hgb)\n",
        "score_ngb=NMAE(y_valid, y_ngb)\n",
        "score_cat=NMAE(y_valid, y_cat)"
      ],
      "metadata": {
        "id": "rthTvTgXJxuM"
      },
      "execution_count": null,
      "outputs": []
    },
    {
      "cell_type": "code",
      "source": [
        "# 평가지표 점수 출력\n",
        "print(score_etr)\n",
        "print(score_lr)\n",
        "print(score_rg)\n",
        "print(score_rf)\n",
        "print(score_gbr)\n",
        "print(score_xgb)\n",
        "print(score_lgb)\n",
        "print(score_ada)\n",
        "print(score_hgb)\n",
        "print(score_ngb)\n",
        "print(score_cat)\n",
        "# 여기까지 단순 Regression"
      ],
      "metadata": {
        "colab": {
          "base_uri": "https://localhost:8080/"
        },
        "id": "E1E2-mETLjN9",
        "outputId": "e2c3b697-fdfb-4414-bc7a-a9c2beaf27e8"
      },
      "execution_count": null,
      "outputs": [
        {
          "output_type": "stream",
          "name": "stdout",
          "text": [
            "0.09756234520300468\n",
            "0.11786844281723506\n",
            "0.11781620420650744\n",
            "0.09754354996249787\n",
            "0.09408704494320543\n",
            "0.09617031838709376\n",
            "0.1017267128731998\n",
            "0.11660261782730845\n",
            "0.10239431439002132\n",
            "0.09705199647856395\n",
            "0.09347795898855675\n"
          ]
        }
      ]
    },
    {
      "cell_type": "code",
      "source": [
        "# KFold 활용해서 fold별 val, predict 값 평균내어 일반화 성능을 끌어올림\n",
        "from sklearn.model_selection import KFold\n",
        "kf = KFold(n_splits = 10, random_state = 42, shuffle = True) # n_splits : K=10으로 설정을 의미, shuffle=분할 전 섞음을 의미"
      ],
      "metadata": {
        "id": "k7WPbIzOLkJu"
      },
      "execution_count": null,
      "outputs": []
    },
    {
      "cell_type": "code",
      "source": [
        "# Kfold 활용을 위해 데이터셋을 다시 정의\n",
        "# Kfold : 전체 데이터(학습+검증)을 k개의 데이터셋으로 나누어 교차검증 수행\n",
        "\n",
        "X = X_train_df.drop(['id', 'target'], axis=1)\n",
        "X_test = X_test_df.drop(['id'], axis=1)"
      ],
      "metadata": {
        "id": "hewpTUYLPMDk"
      },
      "execution_count": null,
      "outputs": []
    },
    {
      "cell_type": "code",
      "source": [
        "# 파생변수 정의 (앞과 동일)\n",
        "def feature(data):\n",
        "  df = data.copy()\n",
        "  df['Year Gap Remod'] = df['Year Remod/Add'] - df['Year Built']\n",
        "  df['Car Area'] = df['Garage Area']/df['Garage Cars']\n",
        "  df['2nd flr SF'] = df['Gr Liv Area'] - df['1st Flr SF']\n",
        "  df['2nd flr'] = df['2nd flr SF'].apply(lambda x : 1 if x > 0 else 0)\n",
        "  df['Total SF'] = df[['Gr Liv Area',\"Garage Area\", \"Total Bsmt SF\"]].sum(axis=1)\n",
        "  df['Sum Qual'] = df[[\"Exter Qual\", \"Kitchen Qual\", \"Overall Qual\"]].sum(axis=1)\n",
        "  df['Garage InOut'] = df.apply(lambda x : 1 if x['Gr Liv Area'] != x['1st Flr SF'] else 0, axis=1)\n",
        "  return df"
      ],
      "metadata": {
        "id": "--qrdVG0QVl9"
      },
      "execution_count": null,
      "outputs": []
    },
    {
      "cell_type": "code",
      "source": [
        "# X에 파생변수 추가\n",
        "X = feature(X)\n",
        "y = np.log1p(X_train_df.target) # y는 traget 열만 가져오고, 데이터를 고르게 분포하도록 만들기 위해 로그를 취함\n",
        "target = feature(X_test) # X_test_df 에서 'id' 삭제, 파생변수 추가\n",
        "target.info()"
      ],
      "metadata": {
        "id": "1J5od7naQWN9",
        "colab": {
          "base_uri": "https://localhost:8080/"
        },
        "outputId": "3271cea3-fa85-4ae9-f3a6-267df7353212"
      },
      "execution_count": null,
      "outputs": [
        {
          "output_type": "stream",
          "name": "stdout",
          "text": [
            "<class 'pandas.core.frame.DataFrame'>\n",
            "RangeIndex: 1350 entries, 0 to 1349\n",
            "Data columns (total 20 columns):\n",
            " #   Column          Non-Null Count  Dtype  \n",
            "---  ------          --------------  -----  \n",
            " 0   Overall Qual    1350 non-null   int64  \n",
            " 1   Gr Liv Area     1350 non-null   int64  \n",
            " 2   Exter Qual      1350 non-null   int64  \n",
            " 3   Garage Cars     1350 non-null   int64  \n",
            " 4   Garage Area     1350 non-null   int64  \n",
            " 5   Kitchen Qual    1350 non-null   int64  \n",
            " 6   Total Bsmt SF   1350 non-null   int64  \n",
            " 7   1st Flr SF      1350 non-null   int64  \n",
            " 8   Bsmt Qual       1350 non-null   int64  \n",
            " 9   Full Bath       1350 non-null   int64  \n",
            " 10  Year Built      1350 non-null   int64  \n",
            " 11  Year Remod/Add  1350 non-null   int64  \n",
            " 12  Garage Yr Blt   1350 non-null   int64  \n",
            " 13  Year Gap Remod  1350 non-null   int64  \n",
            " 14  Car Area        1350 non-null   float64\n",
            " 15  2nd flr SF      1350 non-null   int64  \n",
            " 16  2nd flr         1350 non-null   int64  \n",
            " 17  Total SF        1350 non-null   int64  \n",
            " 18  Sum Qual        1350 non-null   int64  \n",
            " 19  Garage InOut    1350 non-null   int64  \n",
            "dtypes: float64(1), int64(19)\n",
            "memory usage: 211.1 KB\n"
          ]
        }
      ]
    },
    {
      "cell_type": "code",
      "source": [
        "# k개 fold별 NMAE점수 평균계산\n",
        "# ExtraTreesRegression\n",
        "etr_pred = np.zeros(target.shape[0]) # etr_pred = 1350개의 행을 0으로 반환\n",
        "                                     # zeros(shape, dtype, order) : 0으로 된 matrix 생성\n",
        "                                     # shape[0] : 전체 행의 수를 반환\n",
        "etr_val = []\n",
        "for n, (tr_idx, val_idx) in enumerate(kf.split(X, y)) : # enumerate : index와 해당 원소를 tuple() 형태로 반환\n",
        "                                                        # kf.split(X, y) : X, y를 인덱스로 추출해 각각 tr_idx, val_idx에 저장\n",
        "    tr_x, tr_y = X.iloc[tr_idx], y.iloc[tr_idx]\n",
        "    val_x, val_y = X.iloc[val_idx], np.expm1(y.iloc[val_idx]) # val_y에는 다시 지수함수를 취해 원래값을 반환\n",
        "    \n",
        "    etr = ExtraTreesRegressor(n_estimators=200) # 회귀모델링을 정의\n",
        "    etr.fit(tr_x, tr_y) # (tr_x, tr_y)를 etr에 넣어 학습\n",
        "    \n",
        "    val_pred = np.expm1(etr.predict(val_x)) # val_x를 넣어 예측한 값에 지수를 취해서 저장(log를 취한 y로 예측했기 때문에 값의 분포가 log로 나올 것이기 때문)\n",
        "    val_nmae = NMAE(val_y, val_pred) # val_y(실제)와 val_pred(예측) 비교\n",
        "    etr_val.append(val_nmae) # 리스트로 만듦\n",
        "    print(f'{n + 1} FOLD NMAE = {val_nmae}') # NMAE점수 출력\n",
        "    \n",
        "    target_data = Pool(data = target, label = None)\n",
        "    fold_pred = etr.predict(target) / 10 # target 데이터로 예측한 값을 10으로 나눠줌 (평균 내기 위해)\n",
        "    etr_pred += fold_pred # 해당 값을 초기에 만들어준 0행렬에 지속 더해줌 --> 예측한 값의 평균 행렬 생성\n",
        "print(f'10 FOLD Mean of NMAE = {np.mean(etr_val)}')"
      ],
      "metadata": {
        "colab": {
          "base_uri": "https://localhost:8080/"
        },
        "id": "Pkj624nnsf8_",
        "outputId": "74d78197-3f59-4038-b310-d39b01b8c8ec"
      },
      "execution_count": null,
      "outputs": [
        {
          "output_type": "stream",
          "name": "stdout",
          "text": [
            "1 FOLD NMAE = 0.08082294083501068\n",
            "2 FOLD NMAE = 0.09805282758023898\n",
            "3 FOLD NMAE = 0.09820825774942313\n",
            "4 FOLD NMAE = 0.11368983534171043\n",
            "5 FOLD NMAE = 0.08917934122108033\n",
            "6 FOLD NMAE = 0.09280248811398317\n",
            "7 FOLD NMAE = 0.08670929904797334\n",
            "8 FOLD NMAE = 0.09394763344839425\n",
            "9 FOLD NMAE = 0.09771716552163262\n",
            "10 FOLD NMAE = 0.1049802350823752\n",
            "10 FOLD Mean of NMAE = 0.09561100239418222\n"
          ]
        }
      ]
    },
    {
      "cell_type": "code",
      "source": [
        "# RandomForestRegressor\n",
        "rf_pred = np.zeros(target.shape[0])\n",
        "rf_val = []\n",
        "for n, (tr_idx, val_idx) in enumerate(kf.split(X, y)) :\n",
        "    tr_x, tr_y = X.iloc[tr_idx], y.iloc[tr_idx]\n",
        "    val_x, val_y = X.iloc[val_idx], np.expm1(y.iloc[val_idx])\n",
        "    \n",
        "    rf = RandomForestRegressor(random_state = 42, criterion = 'mae')\n",
        "    rf.fit(tr_x, tr_y)\n",
        "    \n",
        "    val_pred = np.expm1(rf.predict(val_x))\n",
        "    val_nmae = NMAE(val_y, val_pred)\n",
        "    rf_val.append(val_nmae)\n",
        "    print(f'{n + 1} FOLD NMAE = {val_nmae}')\n",
        "    \n",
        "    fold_pred = rf.predict(target) / 10\n",
        "    rf_pred += fold_pred\n",
        "print(f'10FOLD Mean of NMAE = {np.mean(rf_val)}')"
      ],
      "metadata": {
        "id": "o_3ytURVUR1d",
        "colab": {
          "base_uri": "https://localhost:8080/"
        },
        "outputId": "fbf10d67-6e4e-4b1e-d370-d4c25dc2bd07"
      },
      "execution_count": null,
      "outputs": [
        {
          "output_type": "stream",
          "name": "stdout",
          "text": [
            "1 FOLD NMAE = 0.08644939652170183\n",
            "2 FOLD NMAE = 0.09802122981071265\n",
            "3 FOLD NMAE = 0.09441514507875699\n",
            "4 FOLD NMAE = 0.11919078028347765\n",
            "5 FOLD NMAE = 0.09300279322558394\n",
            "6 FOLD NMAE = 0.09380141798754157\n",
            "7 FOLD NMAE = 0.09524411974642773\n",
            "8 FOLD NMAE = 0.09621723726204115\n",
            "9 FOLD NMAE = 0.09727894979270606\n",
            "10 FOLD NMAE = 0.10679952064531323\n",
            "10FOLD Mean of NMAE = 0.09804205903542629\n"
          ]
        }
      ]
    },
    {
      "cell_type": "code",
      "source": [
        "# GradientBoostingRegressor\n",
        "gbr_pred = np.zeros(target.shape[0])\n",
        "gbr_val = []\n",
        "for n, (tr_idx, val_idx) in enumerate(kf.split(X, y)) :\n",
        "    tr_x, tr_y = X.iloc[tr_idx], y.iloc[tr_idx]\n",
        "    val_x, val_y = X.iloc[val_idx], np.expm1(y.iloc[val_idx])\n",
        "    \n",
        "    gbr = GradientBoostingRegressor(random_state = 42, max_depth = 4, learning_rate=0.09, loss='huber', n_estimators=130)\n",
        "    gbr.fit(tr_x, tr_y)\n",
        "    \n",
        "    val_pred = np.expm1(gbr.predict(val_x))\n",
        "    val_nmae = NMAE(val_y, val_pred)\n",
        "    gbr_val.append(val_nmae)\n",
        "    print(f'{n + 1} FOLD NMAE = {val_nmae}')\n",
        "    \n",
        "    fold_pred = gbr.predict(target) / 10\n",
        "    gbr_pred += fold_pred\n",
        "print(f'10FOLD Mean of NMAE = {np.mean(gbr_val)}')"
      ],
      "metadata": {
        "colab": {
          "base_uri": "https://localhost:8080/"
        },
        "id": "cDkTV1M3-ZAd",
        "outputId": "56b01c81-af7e-48fe-c93e-1d9f499ff6ba"
      },
      "execution_count": null,
      "outputs": [
        {
          "output_type": "stream",
          "name": "stdout",
          "text": [
            "1 FOLD NMAE = 0.07750171187548267\n",
            "2 FOLD NMAE = 0.10402255744236638\n",
            "3 FOLD NMAE = 0.09909082590440864\n",
            "4 FOLD NMAE = 0.11045415796367825\n",
            "5 FOLD NMAE = 0.08593246978859838\n",
            "6 FOLD NMAE = 0.09825484733485763\n",
            "7 FOLD NMAE = 0.09720505729733409\n",
            "8 FOLD NMAE = 0.0948004465481032\n",
            "9 FOLD NMAE = 0.09141972579762334\n",
            "10 FOLD NMAE = 0.10555228683710073\n",
            "10FOLD Mean of NMAE = 0.09642340867895534\n"
          ]
        }
      ]
    },
    {
      "cell_type": "code",
      "source": [
        "# xgbr\n",
        "xgb_pred = np.zeros(target.shape[0])\n",
        "xgb_val = []\n",
        "for n, (tr_idx, val_idx) in enumerate(kf.split(X, y)) :\n",
        "    tr_x, tr_y = X.iloc[tr_idx], y.iloc[tr_idx]\n",
        "    val_x, val_y = X.iloc[val_idx], np.expm1(y.iloc[val_idx])\n",
        "    \n",
        "    xgb = XGBRegressor(random_state = 42, learning_rate=0.05, n_estimators=200)\n",
        "    xgb.fit(tr_x, tr_y)\n",
        "    \n",
        "    val_pred = np.expm1(xgb.predict(val_x))\n",
        "    val_nmae = NMAE(val_y, val_pred)\n",
        "    xgb_val.append(val_nmae)\n",
        "    print(f'{n + 1} FOLD NMAE = {val_nmae}')\n",
        "    \n",
        "    fold_pred = xgb.predict(target) / 10\n",
        "    xgb_pred += fold_pred\n",
        "print(f'10FOLD Mean of NMAE = {np.mean(xgb_val)}')"
      ],
      "metadata": {
        "colab": {
          "base_uri": "https://localhost:8080/"
        },
        "id": "abJK6u0a-a39",
        "outputId": "05af208e-18a1-421c-9ee0-9c174229ac35"
      },
      "execution_count": null,
      "outputs": [
        {
          "output_type": "stream",
          "name": "stdout",
          "text": [
            "[14:50:36] WARNING: /workspace/src/objective/regression_obj.cu:152: reg:linear is now deprecated in favor of reg:squarederror.\n",
            "1 FOLD NMAE = 0.08428037256373816\n",
            "[14:50:36] WARNING: /workspace/src/objective/regression_obj.cu:152: reg:linear is now deprecated in favor of reg:squarederror.\n",
            "2 FOLD NMAE = 0.10138865684839769\n",
            "[14:50:36] WARNING: /workspace/src/objective/regression_obj.cu:152: reg:linear is now deprecated in favor of reg:squarederror.\n",
            "3 FOLD NMAE = 0.0989747248109777\n",
            "[14:50:37] WARNING: /workspace/src/objective/regression_obj.cu:152: reg:linear is now deprecated in favor of reg:squarederror.\n",
            "4 FOLD NMAE = 0.11571228665447786\n",
            "[14:50:37] WARNING: /workspace/src/objective/regression_obj.cu:152: reg:linear is now deprecated in favor of reg:squarederror.\n",
            "5 FOLD NMAE = 0.08553477586229843\n",
            "[14:50:37] WARNING: /workspace/src/objective/regression_obj.cu:152: reg:linear is now deprecated in favor of reg:squarederror.\n",
            "6 FOLD NMAE = 0.10000616511188161\n",
            "[14:50:37] WARNING: /workspace/src/objective/regression_obj.cu:152: reg:linear is now deprecated in favor of reg:squarederror.\n",
            "7 FOLD NMAE = 0.10021702849214895\n",
            "[14:50:37] WARNING: /workspace/src/objective/regression_obj.cu:152: reg:linear is now deprecated in favor of reg:squarederror.\n",
            "8 FOLD NMAE = 0.09132768366065434\n",
            "[14:50:38] WARNING: /workspace/src/objective/regression_obj.cu:152: reg:linear is now deprecated in favor of reg:squarederror.\n",
            "9 FOLD NMAE = 0.09374233385869785\n",
            "[14:50:38] WARNING: /workspace/src/objective/regression_obj.cu:152: reg:linear is now deprecated in favor of reg:squarederror.\n",
            "10 FOLD NMAE = 0.10911983482713701\n",
            "10FOLD Mean of NMAE = 0.09803038626904095\n"
          ]
        }
      ]
    },
    {
      "cell_type": "code",
      "source": [
        "# lgbr\n",
        "lgb_pred = np.zeros(target.shape[0])\n",
        "lgb_val = []\n",
        "for n, (tr_idx, val_idx) in enumerate(kf.split(X, y)) :\n",
        "    tr_x, tr_y = X.iloc[tr_idx], y.iloc[tr_idx]\n",
        "    val_x, val_y = X.iloc[val_idx], np.expm1(y.iloc[val_idx])\n",
        "    \n",
        "    lgb = LGBMRegressor(random_state = 42, learning_rate=0.05, n_estimators=200)\n",
        "    lgb.fit(tr_x, tr_y)\n",
        "    \n",
        "    val_pred = np.expm1(lgb.predict(val_x))\n",
        "    val_nmae = NMAE(val_y, val_pred)\n",
        "    lgb_val.append(val_nmae)\n",
        "    print(f'{n + 1} FOLD NMAE = {val_nmae}')\n",
        "    \n",
        "    fold_pred = lgb.predict(target) / 10\n",
        "    lgb_pred += fold_pred\n",
        "print(f'10FOLD Mean of NMAE = {np.mean(lgb_val)}')"
      ],
      "metadata": {
        "colab": {
          "base_uri": "https://localhost:8080/"
        },
        "id": "xC8jWTlk-cPn",
        "outputId": "57464d35-0253-4993-89f6-2296f7b823b2"
      },
      "execution_count": null,
      "outputs": [
        {
          "output_type": "stream",
          "name": "stdout",
          "text": [
            "1 FOLD NMAE = 0.07625613915032772\n",
            "2 FOLD NMAE = 0.09189015613865868\n",
            "3 FOLD NMAE = 0.09269203870995357\n",
            "4 FOLD NMAE = 0.11143669532187271\n",
            "5 FOLD NMAE = 0.09217377021357274\n",
            "6 FOLD NMAE = 0.0977746884597186\n",
            "7 FOLD NMAE = 0.08801058220816765\n",
            "8 FOLD NMAE = 0.09986396458870156\n",
            "9 FOLD NMAE = 0.09318176273003355\n",
            "10 FOLD NMAE = 0.10790359695717838\n",
            "10FOLD Mean of NMAE = 0.09511833944781851\n"
          ]
        }
      ]
    },
    {
      "cell_type": "code",
      "source": [
        "# HGBRegressor\n",
        "hgbr_pred = np.zeros(target.shape[0])\n",
        "hgbr_val = []\n",
        "for n, (tr_idx, val_idx) in enumerate(kf.split(X, y)) :\n",
        "    tr_x, tr_y = X.iloc[tr_idx], y.iloc[tr_idx]\n",
        "    val_x, val_y = X.iloc[val_idx], np.expm1(y.iloc[val_idx])\n",
        "    \n",
        "    hgbr = HistGradientBoostingRegressor(random_state=42, scoring=nmae_score, learning_rate=0.09)\n",
        "    hgbr.fit(tr_x, tr_y)\n",
        "    \n",
        "    val_pred = np.expm1(hgbr.predict(val_x))\n",
        "    val_nmae = NMAE(val_y, val_pred)\n",
        "    hgbr_val.append(val_nmae)\n",
        "    print(f'{n + 1} FOLD NMAE = {val_nmae}')\n",
        "    \n",
        "    fold_pred = hgbr.predict(target) / 10\n",
        "    hgbr_pred += fold_pred\n",
        "print(f'10FOLD Mean of NMAE = {np.mean(hgbr_val)}')"
      ],
      "metadata": {
        "colab": {
          "base_uri": "https://localhost:8080/"
        },
        "id": "gU-9otQ7-ewH",
        "outputId": "dfde37a6-7907-4b4f-f287-4f8daca8fbe9"
      },
      "execution_count": null,
      "outputs": [
        {
          "output_type": "stream",
          "name": "stdout",
          "text": [
            "1 FOLD NMAE = 0.07603103078693206\n",
            "2 FOLD NMAE = 0.09723516449257738\n",
            "3 FOLD NMAE = 0.09643893392723443\n",
            "4 FOLD NMAE = 0.11172336623111918\n",
            "5 FOLD NMAE = 0.09275907851348504\n",
            "6 FOLD NMAE = 0.09621071514289606\n",
            "7 FOLD NMAE = 0.08716331797336076\n",
            "8 FOLD NMAE = 0.10151042043583\n",
            "9 FOLD NMAE = 0.09374173702935405\n",
            "10 FOLD NMAE = 0.10719969919676056\n",
            "10FOLD Mean of NMAE = 0.09600134637295496\n"
          ]
        }
      ]
    },
    {
      "cell_type": "code",
      "source": [
        "# NGBRegressor\n",
        "ngb_pred = np.zeros(target.shape[0])\n",
        "ngb_val = []\n",
        "for n, (tr_idx, val_idx) in enumerate(kf.split(X, y)) :\n",
        "    tr_x, tr_y = X.iloc[tr_idx], y.iloc[tr_idx]\n",
        "    val_x, val_y = X.iloc[val_idx], np.expm1(y.iloc[val_idx])\n",
        "    \n",
        "    ngb = NGBRegressor(random_state = 42, n_estimators = 500, verbose = 0, learning_rate = 0.03)\n",
        "    ngb.fit(tr_x, tr_y, val_x, val_y, early_stopping_rounds = 300)\n",
        "    \n",
        "    val_pred = np.expm1(ngb.predict(val_x))\n",
        "    val_nmae = NMAE(val_y, val_pred)\n",
        "    ngb_val.append(val_nmae)\n",
        "    print(f'{n + 1} FOLD NMAE = {val_nmae}')\n",
        "    \n",
        "    target_data = Pool(data = target, label = None)\n",
        "    fold_pred = ngb.predict(target) / 10\n",
        "    ngb_pred += fold_pred\n",
        "print(f'10FOLD Mean of NMAE = {np.mean(ngb_val)}')"
      ],
      "metadata": {
        "colab": {
          "base_uri": "https://localhost:8080/"
        },
        "id": "EK-xe-AA-gmp",
        "outputId": "c5a3d24a-b3cb-4fcc-dd08-7ad970667d38"
      },
      "execution_count": null,
      "outputs": [
        {
          "output_type": "stream",
          "name": "stdout",
          "text": [
            "1 FOLD NMAE = 0.07801828661285823\n",
            "2 FOLD NMAE = 0.10042493059713078\n",
            "3 FOLD NMAE = 0.09792787174179249\n",
            "4 FOLD NMAE = 0.11187983508636111\n",
            "5 FOLD NMAE = 0.08664500737352729\n",
            "6 FOLD NMAE = 0.0974549188225471\n",
            "7 FOLD NMAE = 0.09678827424108716\n",
            "8 FOLD NMAE = 0.09082031796536544\n",
            "9 FOLD NMAE = 0.0915733487858593\n",
            "10 FOLD NMAE = 0.10493894853304335\n",
            "10FOLD Mean of NMAE = 0.09564717397595722\n"
          ]
        }
      ]
    },
    {
      "cell_type": "code",
      "source": [
        "# cat\n",
        "cat_pred = np.zeros(target.shape[0])\n",
        "cat_val = []\n",
        "for n, (tr_idx, val_idx) in enumerate(kf.split(X, y)) :\n",
        "    tr_x, tr_y = X.iloc[tr_idx], y.iloc[tr_idx]\n",
        "    val_x, val_y = X.iloc[val_idx], np.expm1(y.iloc[val_idx])\n",
        "    \n",
        "    tr_data = Pool(data = tr_x, label = tr_y)\n",
        "    val_data = Pool(data = val_x, label = val_y)\n",
        "    \n",
        "    cat = CatBoostRegressor(depth = 4, random_state = 42, loss_function = 'MAE', n_estimators = 3000, learning_rate = 0.03, verbose = 0)\n",
        "    cat.fit(tr_data, eval_set = val_data, early_stopping_rounds = 750, verbose = 1000)\n",
        "    \n",
        "    val_pred = np.expm1(cat.predict(val_x))\n",
        "    val_nmae = NMAE(val_y, val_pred)\n",
        "    cat_val.append(val_nmae)\n",
        "    print(f'{n + 1} FOLD NMAE = {val_nmae}')\n",
        "    \n",
        "    target_data = Pool(data = target, label = None)\n",
        "    fold_pred = cat.predict(target) / 10\n",
        "    cat_pred += fold_pred\n",
        "print(f'10FOLD Mean of NMAE = {np.mean(cat_val)}')"
      ],
      "metadata": {
        "colab": {
          "base_uri": "https://localhost:8080/"
        },
        "id": "LMY8Kpcv-hCp",
        "outputId": "bdc15c5e-e0ef-4caa-9f59-730920a76b98"
      },
      "execution_count": null,
      "outputs": [
        {
          "output_type": "stream",
          "name": "stdout",
          "text": [
            "0:\tlearn: 0.2938486\ttest: 184599.8961000\tbest: 184599.8961000 (0)\ttotal: 1.45ms\tremaining: 4.35s\n",
            "Stopped by overfitting detector  (750 iterations wait)\n",
            "\n",
            "bestTest = 184599.8459\n",
            "bestIteration = 130\n",
            "\n",
            "Shrink model to first 131 iterations.\n",
            "1 FOLD NMAE = 0.0832515027438851\n",
            "0:\tlearn: 0.2948005\ttest: 182774.3369942\tbest: 182774.3369942 (0)\ttotal: 1.38ms\tremaining: 4.14s\n",
            "Stopped by overfitting detector  (750 iterations wait)\n",
            "\n",
            "bestTest = 182774.3175\n",
            "bestIteration = 114\n",
            "\n",
            "Shrink model to first 115 iterations.\n",
            "2 FOLD NMAE = 0.103085993983557\n",
            "0:\tlearn: 0.2883000\ttest: 196831.3027016\tbest: 196831.3027016 (0)\ttotal: 1.44ms\tremaining: 4.31s\n",
            "1000:\tlearn: 0.0671716\ttest: 196831.2177815\tbest: 196831.2171394 (689)\ttotal: 1.23s\tremaining: 2.46s\n",
            "Stopped by overfitting detector  (750 iterations wait)\n",
            "\n",
            "bestTest = 196831.2171\n",
            "bestIteration = 689\n",
            "\n",
            "Shrink model to first 690 iterations.\n",
            "3 FOLD NMAE = 0.0941226411035661\n",
            "0:\tlearn: 0.2912214\ttest: 172746.7630999\tbest: 172746.7630999 (0)\ttotal: 1.37ms\tremaining: 4.1s\n",
            "Stopped by overfitting detector  (750 iterations wait)\n",
            "\n",
            "bestTest = 172746.7631\n",
            "bestIteration = 0\n",
            "\n",
            "Shrink model to first 1 iterations.\n",
            "4 FOLD NMAE = 0.29505860937121264\n",
            "0:\tlearn: 0.2922275\ttest: 194134.6737299\tbest: 194134.6737299 (0)\ttotal: 1.55ms\tremaining: 4.65s\n",
            "1000:\tlearn: 0.0677861\ttest: 194134.5850641\tbest: 194134.5849134 (723)\ttotal: 1.28s\tremaining: 2.55s\n",
            "Stopped by overfitting detector  (750 iterations wait)\n",
            "\n",
            "bestTest = 194134.5849\n",
            "bestIteration = 723\n",
            "\n",
            "Shrink model to first 724 iterations.\n",
            "5 FOLD NMAE = 0.09067643555679974\n",
            "0:\tlearn: 0.2900083\ttest: 197571.5837731\tbest: 197571.5837731 (0)\ttotal: 1.39ms\tremaining: 4.18s\n",
            "1000:\tlearn: 0.0678103\ttest: 197571.4818447\tbest: 197571.4806972 (326)\ttotal: 1.23s\tremaining: 2.46s\n",
            "Stopped by overfitting detector  (750 iterations wait)\n",
            "\n",
            "bestTest = 197571.4807\n",
            "bestIteration = 326\n",
            "\n",
            "Shrink model to first 327 iterations.\n",
            "6 FOLD NMAE = 0.09120167873600551\n",
            "0:\tlearn: 0.2932485\ttest: 183621.5484046\tbest: 183621.5484046 (0)\ttotal: 1.38ms\tremaining: 4.14s\n",
            "1000:\tlearn: 0.0661444\ttest: 183621.5072768\tbest: 183621.5067566 (747)\ttotal: 1.24s\tremaining: 2.47s\n",
            "Stopped by overfitting detector  (750 iterations wait)\n",
            "\n",
            "bestTest = 183621.5068\n",
            "bestIteration = 747\n",
            "\n",
            "Shrink model to first 748 iterations.\n",
            "7 FOLD NMAE = 0.08900111490516983\n",
            "0:\tlearn: 0.2915172\ttest: 179670.4120514\tbest: 179670.4120514 (0)\ttotal: 1.36ms\tremaining: 4.09s\n",
            "Stopped by overfitting detector  (750 iterations wait)\n",
            "\n",
            "bestTest = 179670.3859\n",
            "bestIteration = 58\n",
            "\n",
            "Shrink model to first 59 iterations.\n",
            "8 FOLD NMAE = 0.12963090115821482\n",
            "0:\tlearn: 0.2927122\ttest: 175656.7156190\tbest: 175656.7156190 (0)\ttotal: 1.32ms\tremaining: 3.95s\n",
            "Stopped by overfitting detector  (750 iterations wait)\n",
            "\n",
            "bestTest = 175656.6978\n",
            "bestIteration = 60\n",
            "\n",
            "Shrink model to first 61 iterations.\n",
            "9 FOLD NMAE = 0.1387052744589598\n",
            "0:\tlearn: 0.2887338\ttest: 196335.7017888\tbest: 196335.7017888 (0)\ttotal: 1.37ms\tremaining: 4.12s\n",
            "Stopped by overfitting detector  (750 iterations wait)\n",
            "\n",
            "bestTest = 196335.6273\n",
            "bestIteration = 136\n",
            "\n",
            "Shrink model to first 137 iterations.\n",
            "10 FOLD NMAE = 0.12274135314941381\n",
            "10FOLD Mean of NMAE = 0.12374755051667843\n"
          ]
        }
      ]
    },
    {
      "cell_type": "code",
      "source": [
        "# 검증 성능 확인\n",
        "val_list = [etr_val, rf_val, gbr_val, xgb_val, lgb_val, hgbr_val, ngb_val, cat_val]\n",
        "for val in val_list :\n",
        "  print(\"{:.8f}\".format(np.mean(val))) "
      ],
      "metadata": {
        "id": "jJJotoW3-iwz",
        "colab": {
          "base_uri": "https://localhost:8080/"
        },
        "outputId": "cc9aa021-0d96-49c6-f2e6-f08349465205"
      },
      "execution_count": null,
      "outputs": [
        {
          "output_type": "stream",
          "name": "stdout",
          "text": [
            "0.09561100\n",
            "0.09804206\n",
            "0.09642341\n",
            "0.09803039\n",
            "0.09511834\n",
            "0.09600135\n",
            "0.09564717\n",
            "0.12374755\n"
          ]
        }
      ]
    },
    {
      "cell_type": "code",
      "source": [
        "# catboost의 성능이 좋지 않아, k-fold 이전의 catboost를 불러오기\n",
        "predict_cat=cat_reg.predict(X_test_c)\n",
        "print(predict_cat)"
      ],
      "metadata": {
        "colab": {
          "base_uri": "https://localhost:8080/"
        },
        "id": "NQdG1uG72TLQ",
        "outputId": "d3aed2bb-e9e6-459b-fd21-6d762b524d04"
      },
      "execution_count": null,
      "outputs": [
        {
          "output_type": "stream",
          "name": "stdout",
          "text": [
            "[333636.50168837 126244.31752535 175668.56762463 ...  67941.58672409\n",
            " 196782.1214807  140186.52526413]\n"
          ]
        }
      ]
    },
    {
      "cell_type": "code",
      "source": [
        "# 제출용 파일 불러오기.\n",
        "submission = pd.read_csv('/content/drive/MyDrive/DACON 데이터분석 대회/집값예측 프로젝트/submission.csv')\n",
        "submission.head()"
      ],
      "metadata": {
        "colab": {
          "base_uri": "https://localhost:8080/",
          "height": 206
        },
        "id": "l35iMRT73CiF",
        "outputId": "c07cebd1-bd56-4e4e-f4aa-0e6da480b3eb"
      },
      "execution_count": null,
      "outputs": [
        {
          "output_type": "execute_result",
          "data": {
            "text/plain": [
              "   id  target\n",
              "0   1       0\n",
              "1   2       0\n",
              "2   3       0\n",
              "3   4       0\n",
              "4   5       0"
            ],
            "text/html": [
              "\n",
              "  <div id=\"df-3bf7bd2d-624f-40d8-8964-d5a85e15290a\">\n",
              "    <div class=\"colab-df-container\">\n",
              "      <div>\n",
              "<style scoped>\n",
              "    .dataframe tbody tr th:only-of-type {\n",
              "        vertical-align: middle;\n",
              "    }\n",
              "\n",
              "    .dataframe tbody tr th {\n",
              "        vertical-align: top;\n",
              "    }\n",
              "\n",
              "    .dataframe thead th {\n",
              "        text-align: right;\n",
              "    }\n",
              "</style>\n",
              "<table border=\"1\" class=\"dataframe\">\n",
              "  <thead>\n",
              "    <tr style=\"text-align: right;\">\n",
              "      <th></th>\n",
              "      <th>id</th>\n",
              "      <th>target</th>\n",
              "    </tr>\n",
              "  </thead>\n",
              "  <tbody>\n",
              "    <tr>\n",
              "      <th>0</th>\n",
              "      <td>1</td>\n",
              "      <td>0</td>\n",
              "    </tr>\n",
              "    <tr>\n",
              "      <th>1</th>\n",
              "      <td>2</td>\n",
              "      <td>0</td>\n",
              "    </tr>\n",
              "    <tr>\n",
              "      <th>2</th>\n",
              "      <td>3</td>\n",
              "      <td>0</td>\n",
              "    </tr>\n",
              "    <tr>\n",
              "      <th>3</th>\n",
              "      <td>4</td>\n",
              "      <td>0</td>\n",
              "    </tr>\n",
              "    <tr>\n",
              "      <th>4</th>\n",
              "      <td>5</td>\n",
              "      <td>0</td>\n",
              "    </tr>\n",
              "  </tbody>\n",
              "</table>\n",
              "</div>\n",
              "      <button class=\"colab-df-convert\" onclick=\"convertToInteractive('df-3bf7bd2d-624f-40d8-8964-d5a85e15290a')\"\n",
              "              title=\"Convert this dataframe to an interactive table.\"\n",
              "              style=\"display:none;\">\n",
              "        \n",
              "  <svg xmlns=\"http://www.w3.org/2000/svg\" height=\"24px\"viewBox=\"0 0 24 24\"\n",
              "       width=\"24px\">\n",
              "    <path d=\"M0 0h24v24H0V0z\" fill=\"none\"/>\n",
              "    <path d=\"M18.56 5.44l.94 2.06.94-2.06 2.06-.94-2.06-.94-.94-2.06-.94 2.06-2.06.94zm-11 1L8.5 8.5l.94-2.06 2.06-.94-2.06-.94L8.5 2.5l-.94 2.06-2.06.94zm10 10l.94 2.06.94-2.06 2.06-.94-2.06-.94-.94-2.06-.94 2.06-2.06.94z\"/><path d=\"M17.41 7.96l-1.37-1.37c-.4-.4-.92-.59-1.43-.59-.52 0-1.04.2-1.43.59L10.3 9.45l-7.72 7.72c-.78.78-.78 2.05 0 2.83L4 21.41c.39.39.9.59 1.41.59.51 0 1.02-.2 1.41-.59l7.78-7.78 2.81-2.81c.8-.78.8-2.07 0-2.86zM5.41 20L4 18.59l7.72-7.72 1.47 1.35L5.41 20z\"/>\n",
              "  </svg>\n",
              "      </button>\n",
              "      \n",
              "  <style>\n",
              "    .colab-df-container {\n",
              "      display:flex;\n",
              "      flex-wrap:wrap;\n",
              "      gap: 12px;\n",
              "    }\n",
              "\n",
              "    .colab-df-convert {\n",
              "      background-color: #E8F0FE;\n",
              "      border: none;\n",
              "      border-radius: 50%;\n",
              "      cursor: pointer;\n",
              "      display: none;\n",
              "      fill: #1967D2;\n",
              "      height: 32px;\n",
              "      padding: 0 0 0 0;\n",
              "      width: 32px;\n",
              "    }\n",
              "\n",
              "    .colab-df-convert:hover {\n",
              "      background-color: #E2EBFA;\n",
              "      box-shadow: 0px 1px 2px rgba(60, 64, 67, 0.3), 0px 1px 3px 1px rgba(60, 64, 67, 0.15);\n",
              "      fill: #174EA6;\n",
              "    }\n",
              "\n",
              "    [theme=dark] .colab-df-convert {\n",
              "      background-color: #3B4455;\n",
              "      fill: #D2E3FC;\n",
              "    }\n",
              "\n",
              "    [theme=dark] .colab-df-convert:hover {\n",
              "      background-color: #434B5C;\n",
              "      box-shadow: 0px 1px 3px 1px rgba(0, 0, 0, 0.15);\n",
              "      filter: drop-shadow(0px 1px 2px rgba(0, 0, 0, 0.3));\n",
              "      fill: #FFFFFF;\n",
              "    }\n",
              "  </style>\n",
              "\n",
              "      <script>\n",
              "        const buttonEl =\n",
              "          document.querySelector('#df-3bf7bd2d-624f-40d8-8964-d5a85e15290a button.colab-df-convert');\n",
              "        buttonEl.style.display =\n",
              "          google.colab.kernel.accessAllowed ? 'block' : 'none';\n",
              "\n",
              "        async function convertToInteractive(key) {\n",
              "          const element = document.querySelector('#df-3bf7bd2d-624f-40d8-8964-d5a85e15290a');\n",
              "          const dataTable =\n",
              "            await google.colab.kernel.invokeFunction('convertToInteractive',\n",
              "                                                     [key], {});\n",
              "          if (!dataTable) return;\n",
              "\n",
              "          const docLinkHtml = 'Like what you see? Visit the ' +\n",
              "            '<a target=\"_blank\" href=https://colab.research.google.com/notebooks/data_table.ipynb>data table notebook</a>'\n",
              "            + ' to learn more about interactive tables.';\n",
              "          element.innerHTML = '';\n",
              "          dataTable['output_type'] = 'display_data';\n",
              "          await google.colab.output.renderOutput(dataTable, element);\n",
              "          const docLink = document.createElement('div');\n",
              "          docLink.innerHTML = docLinkHtml;\n",
              "          element.appendChild(docLink);\n",
              "        }\n",
              "      </script>\n",
              "    </div>\n",
              "  </div>\n",
              "  "
            ]
          },
          "metadata": {},
          "execution_count": 59
        }
      ]
    },
    {
      "cell_type": "code",
      "source": [
        "# exp를 취해 cat과의 상태를 맞춘 후 산술평균으로 결과 도출\n",
        "submission['target'] = (np.expm1(etr_pred) + np.expm1(rf_pred) + np.expm1(gbr_pred) + np.expm1(xgb_pred) + np.expm1(hgbr_pred) + np.expm1(ngb_pred) + predict_cat) / 7\n",
        "submission"
      ],
      "metadata": {
        "colab": {
          "base_uri": "https://localhost:8080/",
          "height": 423
        },
        "id": "fIQaw2zW5zWL",
        "outputId": "57030e34-b503-45d0-ad65-d509d014e26c"
      },
      "execution_count": null,
      "outputs": [
        {
          "output_type": "execute_result",
          "data": {
            "text/plain": [
              "        id         target\n",
              "0        1  335784.217516\n",
              "1        2  126447.570503\n",
              "2        3  174508.218216\n",
              "3        4  251946.632531\n",
              "4        5  134058.007874\n",
              "...    ...            ...\n",
              "1345  1346  322518.634052\n",
              "1346  1347  125689.608234\n",
              "1347  1348   84617.252298\n",
              "1348  1349  195025.224852\n",
              "1349  1350  133009.916191\n",
              "\n",
              "[1350 rows x 2 columns]"
            ],
            "text/html": [
              "\n",
              "  <div id=\"df-726453b5-39ff-4e05-ad62-92a44a755c60\">\n",
              "    <div class=\"colab-df-container\">\n",
              "      <div>\n",
              "<style scoped>\n",
              "    .dataframe tbody tr th:only-of-type {\n",
              "        vertical-align: middle;\n",
              "    }\n",
              "\n",
              "    .dataframe tbody tr th {\n",
              "        vertical-align: top;\n",
              "    }\n",
              "\n",
              "    .dataframe thead th {\n",
              "        text-align: right;\n",
              "    }\n",
              "</style>\n",
              "<table border=\"1\" class=\"dataframe\">\n",
              "  <thead>\n",
              "    <tr style=\"text-align: right;\">\n",
              "      <th></th>\n",
              "      <th>id</th>\n",
              "      <th>target</th>\n",
              "    </tr>\n",
              "  </thead>\n",
              "  <tbody>\n",
              "    <tr>\n",
              "      <th>0</th>\n",
              "      <td>1</td>\n",
              "      <td>335784.217516</td>\n",
              "    </tr>\n",
              "    <tr>\n",
              "      <th>1</th>\n",
              "      <td>2</td>\n",
              "      <td>126447.570503</td>\n",
              "    </tr>\n",
              "    <tr>\n",
              "      <th>2</th>\n",
              "      <td>3</td>\n",
              "      <td>174508.218216</td>\n",
              "    </tr>\n",
              "    <tr>\n",
              "      <th>3</th>\n",
              "      <td>4</td>\n",
              "      <td>251946.632531</td>\n",
              "    </tr>\n",
              "    <tr>\n",
              "      <th>4</th>\n",
              "      <td>5</td>\n",
              "      <td>134058.007874</td>\n",
              "    </tr>\n",
              "    <tr>\n",
              "      <th>...</th>\n",
              "      <td>...</td>\n",
              "      <td>...</td>\n",
              "    </tr>\n",
              "    <tr>\n",
              "      <th>1345</th>\n",
              "      <td>1346</td>\n",
              "      <td>322518.634052</td>\n",
              "    </tr>\n",
              "    <tr>\n",
              "      <th>1346</th>\n",
              "      <td>1347</td>\n",
              "      <td>125689.608234</td>\n",
              "    </tr>\n",
              "    <tr>\n",
              "      <th>1347</th>\n",
              "      <td>1348</td>\n",
              "      <td>84617.252298</td>\n",
              "    </tr>\n",
              "    <tr>\n",
              "      <th>1348</th>\n",
              "      <td>1349</td>\n",
              "      <td>195025.224852</td>\n",
              "    </tr>\n",
              "    <tr>\n",
              "      <th>1349</th>\n",
              "      <td>1350</td>\n",
              "      <td>133009.916191</td>\n",
              "    </tr>\n",
              "  </tbody>\n",
              "</table>\n",
              "<p>1350 rows × 2 columns</p>\n",
              "</div>\n",
              "      <button class=\"colab-df-convert\" onclick=\"convertToInteractive('df-726453b5-39ff-4e05-ad62-92a44a755c60')\"\n",
              "              title=\"Convert this dataframe to an interactive table.\"\n",
              "              style=\"display:none;\">\n",
              "        \n",
              "  <svg xmlns=\"http://www.w3.org/2000/svg\" height=\"24px\"viewBox=\"0 0 24 24\"\n",
              "       width=\"24px\">\n",
              "    <path d=\"M0 0h24v24H0V0z\" fill=\"none\"/>\n",
              "    <path d=\"M18.56 5.44l.94 2.06.94-2.06 2.06-.94-2.06-.94-.94-2.06-.94 2.06-2.06.94zm-11 1L8.5 8.5l.94-2.06 2.06-.94-2.06-.94L8.5 2.5l-.94 2.06-2.06.94zm10 10l.94 2.06.94-2.06 2.06-.94-2.06-.94-.94-2.06-.94 2.06-2.06.94z\"/><path d=\"M17.41 7.96l-1.37-1.37c-.4-.4-.92-.59-1.43-.59-.52 0-1.04.2-1.43.59L10.3 9.45l-7.72 7.72c-.78.78-.78 2.05 0 2.83L4 21.41c.39.39.9.59 1.41.59.51 0 1.02-.2 1.41-.59l7.78-7.78 2.81-2.81c.8-.78.8-2.07 0-2.86zM5.41 20L4 18.59l7.72-7.72 1.47 1.35L5.41 20z\"/>\n",
              "  </svg>\n",
              "      </button>\n",
              "      \n",
              "  <style>\n",
              "    .colab-df-container {\n",
              "      display:flex;\n",
              "      flex-wrap:wrap;\n",
              "      gap: 12px;\n",
              "    }\n",
              "\n",
              "    .colab-df-convert {\n",
              "      background-color: #E8F0FE;\n",
              "      border: none;\n",
              "      border-radius: 50%;\n",
              "      cursor: pointer;\n",
              "      display: none;\n",
              "      fill: #1967D2;\n",
              "      height: 32px;\n",
              "      padding: 0 0 0 0;\n",
              "      width: 32px;\n",
              "    }\n",
              "\n",
              "    .colab-df-convert:hover {\n",
              "      background-color: #E2EBFA;\n",
              "      box-shadow: 0px 1px 2px rgba(60, 64, 67, 0.3), 0px 1px 3px 1px rgba(60, 64, 67, 0.15);\n",
              "      fill: #174EA6;\n",
              "    }\n",
              "\n",
              "    [theme=dark] .colab-df-convert {\n",
              "      background-color: #3B4455;\n",
              "      fill: #D2E3FC;\n",
              "    }\n",
              "\n",
              "    [theme=dark] .colab-df-convert:hover {\n",
              "      background-color: #434B5C;\n",
              "      box-shadow: 0px 1px 3px 1px rgba(0, 0, 0, 0.15);\n",
              "      filter: drop-shadow(0px 1px 2px rgba(0, 0, 0, 0.3));\n",
              "      fill: #FFFFFF;\n",
              "    }\n",
              "  </style>\n",
              "\n",
              "      <script>\n",
              "        const buttonEl =\n",
              "          document.querySelector('#df-726453b5-39ff-4e05-ad62-92a44a755c60 button.colab-df-convert');\n",
              "        buttonEl.style.display =\n",
              "          google.colab.kernel.accessAllowed ? 'block' : 'none';\n",
              "\n",
              "        async function convertToInteractive(key) {\n",
              "          const element = document.querySelector('#df-726453b5-39ff-4e05-ad62-92a44a755c60');\n",
              "          const dataTable =\n",
              "            await google.colab.kernel.invokeFunction('convertToInteractive',\n",
              "                                                     [key], {});\n",
              "          if (!dataTable) return;\n",
              "\n",
              "          const docLinkHtml = 'Like what you see? Visit the ' +\n",
              "            '<a target=\"_blank\" href=https://colab.research.google.com/notebooks/data_table.ipynb>data table notebook</a>'\n",
              "            + ' to learn more about interactive tables.';\n",
              "          element.innerHTML = '';\n",
              "          dataTable['output_type'] = 'display_data';\n",
              "          await google.colab.output.renderOutput(dataTable, element);\n",
              "          const docLink = document.createElement('div');\n",
              "          docLink.innerHTML = docLinkHtml;\n",
              "          element.appendChild(docLink);\n",
              "        }\n",
              "      </script>\n",
              "    </div>\n",
              "  </div>\n",
              "  "
            ]
          },
          "metadata": {},
          "execution_count": 60
        }
      ]
    },
    {
      "cell_type": "code",
      "source": [
        "submission.to_csv(\"submission.csv\", index=False)"
      ],
      "metadata": {
        "id": "AXFxlFAT6Ht1"
      },
      "execution_count": null,
      "outputs": []
    }
  ]
}